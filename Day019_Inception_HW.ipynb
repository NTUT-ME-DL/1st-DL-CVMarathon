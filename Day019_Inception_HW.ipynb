{
 "cells": [
  {
   "cell_type": "markdown",
   "metadata": {},
   "source": [
    "# 內容\n",
    "學習搭建 Inception Block"
   ]
  },
  {
   "cell_type": "markdown",
   "metadata": {},
   "source": [
    "# 目的\n",
    "- 了解 Inceotion 原理\n",
    "- 了解如何導入 Inception block 至 VGG-16 的架構中"
   ]
  },
  {
   "cell_type": "code",
   "execution_count": 116,
   "metadata": {},
   "outputs": [],
   "source": [
    "import numpy as np\n",
    "from keras.layers import Flatten, Dense, Conv2D, MaxPooling2D, GlobalMaxPooling2D, GlobalAveragePooling2D, Input, BatchNormalization, Activation\n",
    "from keras.models import Model\n",
    "from keras import backend as K\n",
    "from keras import layers"
   ]
  },
  {
   "cell_type": "markdown",
   "metadata": {},
   "source": [
    "# 導入 Inception V2：有著 BatchNormalization 的 Convolution"
   ]
  },
  {
   "cell_type": "code",
   "execution_count": 117,
   "metadata": {},
   "outputs": [],
   "source": [
    "def Conv2d_batch_normalization(_input, filters, kernel_size, padding='same', strides=(1, 1), normalizer=True, activation='relu', name=None):\n",
    "    if name is not None:\n",
    "        conv_name = name + '_conv'\n",
    "        bn_name = name + '_batch_normalization'\n",
    "        act_name = name + '_activation'\n",
    "    else:\n",
    "        conv_name = None\n",
    "        bn_name = None\n",
    "        act_name = None\n",
    "    \n",
    "    if K.image_data_format() == 'channels_first':\n",
    "        bn_axis = 1\n",
    "    else:\n",
    "        bn_axis = 3\n",
    "    \n",
    "    _input = Conv2D(\n",
    "            filters, kernel_size,\n",
    "            strides=strides, padding=padding,\n",
    "            use_bias=False, name=conv_name)(_input)\n",
    "\n",
    "    if normalizer:\n",
    "        _input = BatchNormalization(axis=bn_axis, scale=False, name=bn_name)(_input)\n",
    "    \n",
    "    if activation:\n",
    "        _input = Activation(activation, name=act_name)(_input)\n",
    "    \n",
    "    return _input"
   ]
  },
  {
   "cell_type": "markdown",
   "metadata": {},
   "source": [
    "參考 image/inception_structure.png，搭建 inception_v1_block"
   ]
  },
  {
   "cell_type": "code",
   "execution_count": 118,
   "metadata": {},
   "outputs": [],
   "source": [
    "def inception_v1_block(_input, filters, channel_axis, name):\n",
    "    (filters_0, filters_1, filters_2, filters_3) = filters   # filter 的數量，((64, ), (96, 128), (16, 32), (32, ))\n",
    "    branch_0 = Conv2d_batch_normalization(_input, filters_0[0], (1, 1), name=name + \"_branch_0\")\n",
    "    \n",
    "    branch_1 = Conv2d_batch_normalization(_input, filters_1[0], (1, 1), name=name + \"_branch_1\")\n",
    "    branch_1 = Conv2d_batch_normalization(branch_1, filters_1[1], (3, 3), name=name + \"_branch_1_1\")\n",
    "\n",
    "    branch_2 = Conv2d_batch_normalization(_input, filters_2[0], (1, 1), name=name + \"_branch_2_0\")\n",
    "    branch_2 = Conv2d_batch_normalization(branch_2, filters_2[1], (5, 5), name=name + \"_branch_2_1\")\n",
    "\n",
    "    branch_3 = MaxPooling2D(pool_size=(3, 3), strides=1, padding=\"same\", name=name + \"_branch_3_0\")(_input)\n",
    "    branch_3 = Conv2d_batch_normalization(branch_3, filters_3[0], (1, 1), name=name + \"_branch_3_1\")\n",
    "   \n",
    "\n",
    "    _input = layers.concatenate(\n",
    "        [branch_0, branch_1, branch_2, branch_3],\n",
    "        axis=channel_axis,\n",
    "        name=name + \"_concatenated\")\n",
    "    return _input"
   ]
  },
  {
   "cell_type": "markdown",
   "metadata": {},
   "source": [
    "## 測試"
   ]
  },
  {
   "cell_type": "code",
   "execution_count": 120,
   "metadata": {},
   "outputs": [
    {
     "name": "stdout",
     "output_type": "stream",
     "text": "Tensor(\"block_1_concatenated_8/concat:0\", shape=(None, 224, 224, 256), dtype=float32)\n"
    }
   ],
   "source": [
    "img_input = Input(shape=(224, 224, 1))\n",
    "x = inception_v1_block(_input=img_input, filters=((64,), (96,128), (16,32), (32,)), channel_axis=3, name='block_1')\n",
    "print(x)"
   ]
  },
  {
   "cell_type": "markdown",
   "metadata": {},
   "source": [
    "將 inception_v1_block中的 n × n kernel 改為 1 × n + n × 1"
   ]
  },
  {
   "cell_type": "code",
   "execution_count": 121,
   "metadata": {},
   "outputs": [],
   "source": [
    "def inception_v3_block(_input, filters, channel_axis, name):\n",
    "    (filters_0, filters_1, filters_2, filters_3) = filters   # filter 的數量 ((64,), (96,128), (16,32), (32,))\n",
    "    branch_0 = Conv2d_batch_normalization(_input, filters_0[0], (1, 1), name=name + \"_branch_0\")\n",
    "\n",
    "    branch_1 = Conv2d_batch_normalization(_input, filters_1[0], (1, 1), name=name + \"_branch_1\")\n",
    "    branch_1 = Conv2d_batch_normalization(branch_1, filters_1[1], (1, 3), name=name + \"_branch_1_1\")\n",
    "    branch_1 = Conv2d_batch_normalization(branch_1, filters_1[1], (3, 1), name=name + \"_branch_1_2\")\n",
    "\n",
    "    branch_2 = Conv2d_batch_normalization(_input, filters_2[0], (1, 1), name=name + \"_branch_2_0\")\n",
    "    branch_2 = Conv2d_batch_normalization(branch_2, filters_2[1], (1, 5), name=name + \"_branch_2_1\")\n",
    "    branch_2 = Conv2d_batch_normalization(branch_2, filters_2[1], (5, 1), name=name + \"_branch_2_2\")\n",
    "\n",
    "    branch_3 = MaxPooling2D(pool_size=(3, 3), strides=1, padding=\"same\", name=name + \"_branch_3_0\")(_input)\n",
    "    branch_3 = Conv2d_batch_normalization(branch_3, filters_3[0], (1, 1), name=name + \"_branch_3_1\")\n",
    "\n",
    "    _input = layers.concatenate(\n",
    "        [branch_0, branch_1, branch_2, branch_3],\n",
    "        axis=channel_axis,\n",
    "        name=name + \"_concatenated\")\n",
    "    return _input"
   ]
  },
  {
   "cell_type": "markdown",
   "metadata": {},
   "source": [
    "測試"
   ]
  },
  {
   "cell_type": "code",
   "execution_count": 122,
   "metadata": {},
   "outputs": [
    {
     "name": "stdout",
     "output_type": "stream",
     "text": "Tensor(\"block_1_concatenated_9/concat:0\", shape=(None, 224, 224, 256), dtype=float32)\n"
    }
   ],
   "source": [
    "img_input = Input(shape=(224, 224, 1))\n",
    "x = inception_v3_block(_input=img_input, filters=((64,), (96,128), (16,32), (32,)), channel_axis=3, name='block_1')\n",
    "print(x)"
   ]
  },
  {
   "cell_type": "markdown",
   "metadata": {},
   "source": [
    "---"
   ]
  },
  {
   "cell_type": "markdown",
   "metadata": {},
   "source": [
    "# 額外練習"
   ]
  },
  {
   "cell_type": "markdown",
   "metadata": {},
   "source": [
    "#### 將 VGG-16 Block_3 中的 Convolution 全部改為 inception_v1_block\n",
    "#### Block_5 中的 Convolution 全部改為 inception_v3_block\n",
    "#### 並將所有 Convolution 改為 Conv2d_batch_normalization"
   ]
  },
  {
   "cell_type": "markdown",
   "metadata": {},
   "source": [
    "# 原 VGG-16 架構"
   ]
  },
  {
   "cell_type": "code",
   "execution_count": 123,
   "metadata": {},
   "outputs": [],
   "source": [
    "\n",
    "\n",
    "def vgg_16(include_top=True,input_tensor=None, input_shape=(224,224,1),\n",
    "          pooling='max',classes=1000):\n",
    " \n",
    "    img_input = Input(shape=input_shape)\n",
    "\n",
    "    x = Conv2D(64, (3, 3), activation='relu', padding='same', name='block1_conv1')(img_input)\n",
    "    x = Conv2D(64, (3, 3), activation='relu', padding='same', name='block1_conv2')(x)\n",
    "    x = MaxPooling2D((2, 2), strides=(2, 2), name='block1_pool')(x)\n",
    "\n",
    "    # Block 2\n",
    "    x = Conv2D(128, (3, 3), activation='relu', padding='same', name='block2_conv1')(x)\n",
    "    x = Conv2D(128, (3, 3), activation='relu', padding='same', name='block2_conv2')(x)\n",
    "    x = MaxPooling2D((2, 2), strides=(2, 2), name='block2_pool')(x)\n",
    "\n",
    "    # Block 3\n",
    "    x = Conv2D(256, (3, 3), activation='relu', padding='same', name='block3_conv1')(x)\n",
    "    x = Conv2D(256, (3, 3), activation='relu', padding='same', name='block3_conv2')(x)\n",
    "    x = Conv2D(256, (3, 3), activation='relu', padding='same', name='block3_conv3')(x)\n",
    "    x = MaxPooling2D((2, 2), strides=(2, 2), name='block3_pool')(x)\n",
    "\n",
    "    # Block 4\n",
    "    x = Conv2D(512, (3, 3), activation='relu', padding='same', name='block4_conv1')(x)\n",
    "    x = Conv2D(512, (3, 3), activation='relu', padding='same', name='block4_conv2')(x)\n",
    "    x = Conv2D(512, (3, 3), activation='relu', padding='same', name='block4_conv3')(x)\n",
    "    x = MaxPooling2D((2, 2), strides=(2, 2), name='block4_pool')(x)\n",
    "\n",
    "    # Block 5\n",
    "    x = Conv2D(512, (3, 3), activation='relu', padding='same', name='block5_conv1')(x)\n",
    "    x = Conv2D(512, (3, 3), activation='relu', padding='same', name='block5_conv2')(x)\n",
    "    x = Conv2D(512, (3, 3), activation='relu', padding='same', name='block5_conv3')(x)\n",
    "    x = MaxPooling2D((2, 2), strides=(2, 2), name='block5_pool')(x)\n",
    "\n",
    "    if include_top:\n",
    "        # Classification block\n",
    "        x = Flatten(name='flatten')(x)\n",
    "        x = Dense(4096, activation='relu', name='fc1')(x)\n",
    "        x = Dense(4096, activation='relu', name='fc2')(x)\n",
    "        x = Dense(classes, activation='softmax', name='predictions')(x)\n",
    "    else:\n",
    "        if pooling == 'avg':\n",
    "            x = GlobalAveragePooling2D()(x)\n",
    "        elif pooling == 'max':\n",
    "            x = GlobalMaxPooling2D()(x)\n",
    "\n",
    "    inputs = img_input\n",
    "    \n",
    "    # Create model.\n",
    "    model = Model(inputs, x, name='vgg16')\n",
    "\n",
    "   \n",
    "    return model\n",
    "\n"
   ]
  },
  {
   "cell_type": "markdown",
   "metadata": {},
   "source": [
    "#### 修改後"
   ]
  },
  {
   "cell_type": "code",
   "execution_count": 125,
   "metadata": {},
   "outputs": [],
   "source": [
    "def vgg_16_inception(include_top=True,input_tensor=None, input_shape=(224,224,1), pooling='max',classes=1000):\n",
    "    img_input = Input(shape=input_shape)\n",
    "    \n",
    "    # Block 1\n",
    "    x = Conv2d_batch_normalization(img_input, 64, (3, 3), activation='relu', padding='same', name='block1_conv1')\n",
    "    x = Conv2d_batch_normalization(x, 64, (3, 3), activation='relu', padding='same', name='block1_conv2')\n",
    "    x = MaxPooling2D((2, 2), strides=(2, 2), name='block1_pool')(x)\n",
    "\n",
    "    # Block 2\n",
    "    x = Conv2d_batch_normalization(x, 128, (3, 3), activation='relu', padding='same', name='block2_conv1')\n",
    "    x = Conv2d_batch_normalization(x, 128, (3, 3), activation='relu', padding='same', name='block2_conv2')\n",
    "    x = MaxPooling2D((2, 2), strides=(2, 2), name='block2_pool')(x)\n",
    "\n",
    "    # Block 3\n",
    "    x = inception_v1_block(_input=x, filters=((64,), (96,128), (16,32), (32,)), channel_axis=3, name='block_3')\n",
    "    \n",
    "    # Block 4\n",
    "    x = Conv2d_batch_normalization(x, 512, (3, 3), activation='relu', padding='same', name='block4_conv1')\n",
    "    x = Conv2d_batch_normalization(x, 512, (3, 3), activation='relu', padding='same', name='block4_conv2')\n",
    "    x = Conv2d_batch_normalization(x, 512, (3, 3), activation='relu', padding='same', name='block4_conv3')\n",
    "    x = MaxPooling2D((2, 2), strides=(2, 2), name='block4_pool')(x)\n",
    "\n",
    "    # Block 5\n",
    "    x = inception_v3_block(_input=x, filters=((64,), (96,128), (16,32), (32,)), channel_axis=3, name='block_5')\n",
    "    \n",
    "    if include_top:\n",
    "        # Classification block\n",
    "        x = Flatten(name='flatten')(x)\n",
    "        x = Dense(4096, activation='relu', name='fc1')(x)\n",
    "        x = Dense(4096, activation='relu', name='fc2')(x)\n",
    "        x = Dense(classes, activation='softmax', name='predictions')(x)\n",
    "    else:\n",
    "        if pooling == 'avg':\n",
    "            x = GlobalAveragePooling2D()(x)\n",
    "        elif pooling == 'max':\n",
    "            x = GlobalMaxPooling2D()(x)\n",
    "    \n",
    "    # Create model.\n",
    "    model = Model(img_input, x, name='vgg_16_with_batch_normalization')\n",
    "\n",
    "    \n",
    "   \n",
    "    return model\n",
    "\n"
   ]
  },
  {
   "cell_type": "code",
   "execution_count": 127,
   "metadata": {},
   "outputs": [
    {
     "name": "stdout",
     "output_type": "stream",
     "text": "Tensor(\"block1_conv1_activation_26/Relu:0\", shape=(None, 224, 224, 64), dtype=float32)\nTensor(\"input_51:0\", shape=(None, 224, 224, 1), dtype=float32)\nTensor(\"global_max_pooling2d_16/Max:0\", shape=(None, 256), dtype=float32)\n"
    }
   ],
   "source": [
    "model = vgg_16_inception(include_top=False)"
   ]
  },
  {
   "cell_type": "code",
   "execution_count": 130,
   "metadata": {},
   "outputs": [
    {
     "name": "stdout",
     "output_type": "stream",
     "text": "Model: \"vgg_16_with_batch_normalization\"\n__________________________________________________________________________________________________\nLayer (type)                    Output Shape         Param #     Connected to                     \n==================================================================================================\ninput_51 (InputLayer)           (None, 224, 224, 1)  0                                            \n__________________________________________________________________________________________________\nblock1_conv1_conv (Conv2D)      (None, 224, 224, 64) 576         input_51[0][0]                   \n__________________________________________________________________________________________________\nblock1_conv1_batch_normalizatio (None, 224, 224, 64) 192         block1_conv1_conv[0][0]          \n__________________________________________________________________________________________________\nblock1_conv1_activation (Activa (None, 224, 224, 64) 0           block1_conv1_batch_normalization[\n__________________________________________________________________________________________________\nblock1_conv2_conv (Conv2D)      (None, 224, 224, 64) 36864       block1_conv1_activation[0][0]    \n__________________________________________________________________________________________________\nblock1_conv2_batch_normalizatio (None, 224, 224, 64) 192         block1_conv2_conv[0][0]          \n__________________________________________________________________________________________________\nblock1_conv2_activation (Activa (None, 224, 224, 64) 0           block1_conv2_batch_normalization[\n__________________________________________________________________________________________________\nblock1_pool (MaxPooling2D)      (None, 112, 112, 64) 0           block1_conv2_activation[0][0]    \n__________________________________________________________________________________________________\nblock2_conv1_conv (Conv2D)      (None, 112, 112, 128 73728       block1_pool[0][0]                \n__________________________________________________________________________________________________\nblock2_conv1_batch_normalizatio (None, 112, 112, 128 384         block2_conv1_conv[0][0]          \n__________________________________________________________________________________________________\nblock2_conv1_activation (Activa (None, 112, 112, 128 0           block2_conv1_batch_normalization[\n__________________________________________________________________________________________________\nblock2_conv2_conv (Conv2D)      (None, 112, 112, 128 147456      block2_conv1_activation[0][0]    \n__________________________________________________________________________________________________\nblock2_conv2_batch_normalizatio (None, 112, 112, 128 384         block2_conv2_conv[0][0]          \n__________________________________________________________________________________________________\nblock2_conv2_activation (Activa (None, 112, 112, 128 0           block2_conv2_batch_normalization[\n__________________________________________________________________________________________________\nblock2_pool (MaxPooling2D)      (None, 56, 56, 128)  0           block2_conv2_activation[0][0]    \n__________________________________________________________________________________________________\nblock_3_branch_1_conv (Conv2D)  (None, 56, 56, 96)   12288       block2_pool[0][0]                \n__________________________________________________________________________________________________\nblock_3_branch_2_0_conv (Conv2D (None, 56, 56, 16)   2048        block2_pool[0][0]                \n__________________________________________________________________________________________________\nblock_3_branch_1_batch_normaliz (None, 56, 56, 96)   288         block_3_branch_1_conv[0][0]      \n__________________________________________________________________________________________________\nblock_3_branch_2_0_batch_normal (None, 56, 56, 16)   48          block_3_branch_2_0_conv[0][0]    \n__________________________________________________________________________________________________\nblock_3_branch_1_activation (Ac (None, 56, 56, 96)   0           block_3_branch_1_batch_normalizat\n__________________________________________________________________________________________________\nblock_3_branch_2_0_activation ( (None, 56, 56, 16)   0           block_3_branch_2_0_batch_normaliz\n__________________________________________________________________________________________________\nblock_3_branch_3_0 (MaxPooling2 (None, 56, 56, 128)  0           block2_pool[0][0]                \n__________________________________________________________________________________________________\nblock_3_branch_0_conv (Conv2D)  (None, 56, 56, 64)   8192        block2_pool[0][0]                \n__________________________________________________________________________________________________\nblock_3_branch_1_1_conv (Conv2D (None, 56, 56, 128)  110592      block_3_branch_1_activation[0][0]\n__________________________________________________________________________________________________\nblock_3_branch_2_1_conv (Conv2D (None, 56, 56, 32)   12800       block_3_branch_2_0_activation[0][\n__________________________________________________________________________________________________\nblock_3_branch_3_1_conv (Conv2D (None, 56, 56, 32)   4096        block_3_branch_3_0[0][0]         \n__________________________________________________________________________________________________\nblock_3_branch_0_batch_normaliz (None, 56, 56, 64)   192         block_3_branch_0_conv[0][0]      \n__________________________________________________________________________________________________\nblock_3_branch_1_1_batch_normal (None, 56, 56, 128)  384         block_3_branch_1_1_conv[0][0]    \n__________________________________________________________________________________________________\nblock_3_branch_2_1_batch_normal (None, 56, 56, 32)   96          block_3_branch_2_1_conv[0][0]    \n__________________________________________________________________________________________________\nblock_3_branch_3_1_batch_normal (None, 56, 56, 32)   96          block_3_branch_3_1_conv[0][0]    \n__________________________________________________________________________________________________\nblock_3_branch_0_activation (Ac (None, 56, 56, 64)   0           block_3_branch_0_batch_normalizat\n__________________________________________________________________________________________________\nblock_3_branch_1_1_activation ( (None, 56, 56, 128)  0           block_3_branch_1_1_batch_normaliz\n__________________________________________________________________________________________________\nblock_3_branch_2_1_activation ( (None, 56, 56, 32)   0           block_3_branch_2_1_batch_normaliz\n__________________________________________________________________________________________________\nblock_3_branch_3_1_activation ( (None, 56, 56, 32)   0           block_3_branch_3_1_batch_normaliz\n__________________________________________________________________________________________________\nblock_3_concatenated (Concatena (None, 56, 56, 256)  0           block_3_branch_0_activation[0][0]\n                                                                 block_3_branch_1_1_activation[0][\n                                                                 block_3_branch_2_1_activation[0][\n                                                                 block_3_branch_3_1_activation[0][\n__________________________________________________________________________________________________\nblock4_conv1_conv (Conv2D)      (None, 56, 56, 512)  1179648     block_3_concatenated[0][0]       \n__________________________________________________________________________________________________\nblock4_conv1_batch_normalizatio (None, 56, 56, 512)  1536        block4_conv1_conv[0][0]          \n__________________________________________________________________________________________________\nblock4_conv1_activation (Activa (None, 56, 56, 512)  0           block4_conv1_batch_normalization[\n__________________________________________________________________________________________________\nblock4_conv2_conv (Conv2D)      (None, 56, 56, 512)  2359296     block4_conv1_activation[0][0]    \n__________________________________________________________________________________________________\nblock4_conv2_batch_normalizatio (None, 56, 56, 512)  1536        block4_conv2_conv[0][0]          \n__________________________________________________________________________________________________\nblock4_conv2_activation (Activa (None, 56, 56, 512)  0           block4_conv2_batch_normalization[\n__________________________________________________________________________________________________\nblock4_conv3_conv (Conv2D)      (None, 56, 56, 512)  2359296     block4_conv2_activation[0][0]    \n__________________________________________________________________________________________________\nblock4_conv3_batch_normalizatio (None, 56, 56, 512)  1536        block4_conv3_conv[0][0]          \n__________________________________________________________________________________________________\nblock4_conv3_activation (Activa (None, 56, 56, 512)  0           block4_conv3_batch_normalization[\n__________________________________________________________________________________________________\nblock4_pool (MaxPooling2D)      (None, 28, 28, 512)  0           block4_conv3_activation[0][0]    \n__________________________________________________________________________________________________\nblock_5_branch_1_conv (Conv2D)  (None, 28, 28, 96)   49152       block4_pool[0][0]                \n__________________________________________________________________________________________________\nblock_5_branch_2_0_conv (Conv2D (None, 28, 28, 16)   8192        block4_pool[0][0]                \n__________________________________________________________________________________________________\nblock_5_branch_1_batch_normaliz (None, 28, 28, 96)   288         block_5_branch_1_conv[0][0]      \n__________________________________________________________________________________________________\nblock_5_branch_2_0_batch_normal (None, 28, 28, 16)   48          block_5_branch_2_0_conv[0][0]    \n__________________________________________________________________________________________________\nblock_5_branch_1_activation (Ac (None, 28, 28, 96)   0           block_5_branch_1_batch_normalizat\n__________________________________________________________________________________________________\nblock_5_branch_2_0_activation ( (None, 28, 28, 16)   0           block_5_branch_2_0_batch_normaliz\n__________________________________________________________________________________________________\nblock_5_branch_1_1_conv (Conv2D (None, 28, 28, 128)  36864       block_5_branch_1_activation[0][0]\n__________________________________________________________________________________________________\nblock_5_branch_2_1_conv (Conv2D (None, 28, 28, 32)   2560        block_5_branch_2_0_activation[0][\n__________________________________________________________________________________________________\nblock_5_branch_1_1_batch_normal (None, 28, 28, 128)  384         block_5_branch_1_1_conv[0][0]    \n__________________________________________________________________________________________________\nblock_5_branch_2_1_batch_normal (None, 28, 28, 32)   96          block_5_branch_2_1_conv[0][0]    \n__________________________________________________________________________________________________\nblock_5_branch_1_1_activation ( (None, 28, 28, 128)  0           block_5_branch_1_1_batch_normaliz\n__________________________________________________________________________________________________\nblock_5_branch_2_1_activation ( (None, 28, 28, 32)   0           block_5_branch_2_1_batch_normaliz\n__________________________________________________________________________________________________\nblock_5_branch_3_0 (MaxPooling2 (None, 28, 28, 512)  0           block4_pool[0][0]                \n__________________________________________________________________________________________________\nblock_5_branch_0_conv (Conv2D)  (None, 28, 28, 64)   32768       block4_pool[0][0]                \n__________________________________________________________________________________________________\nblock_5_branch_1_2_conv (Conv2D (None, 28, 28, 128)  49152       block_5_branch_1_1_activation[0][\n__________________________________________________________________________________________________\nblock_5_branch_2_2_conv (Conv2D (None, 28, 28, 32)   5120        block_5_branch_2_1_activation[0][\n__________________________________________________________________________________________________\nblock_5_branch_3_1_conv (Conv2D (None, 28, 28, 32)   16384       block_5_branch_3_0[0][0]         \n__________________________________________________________________________________________________\nblock_5_branch_0_batch_normaliz (None, 28, 28, 64)   192         block_5_branch_0_conv[0][0]      \n__________________________________________________________________________________________________\nblock_5_branch_1_2_batch_normal (None, 28, 28, 128)  384         block_5_branch_1_2_conv[0][0]    \n__________________________________________________________________________________________________\nblock_5_branch_2_2_batch_normal (None, 28, 28, 32)   96          block_5_branch_2_2_conv[0][0]    \n__________________________________________________________________________________________________\nblock_5_branch_3_1_batch_normal (None, 28, 28, 32)   96          block_5_branch_3_1_conv[0][0]    \n__________________________________________________________________________________________________\nblock_5_branch_0_activation (Ac (None, 28, 28, 64)   0           block_5_branch_0_batch_normalizat\n__________________________________________________________________________________________________\nblock_5_branch_1_2_activation ( (None, 28, 28, 128)  0           block_5_branch_1_2_batch_normaliz\n__________________________________________________________________________________________________\nblock_5_branch_2_2_activation ( (None, 28, 28, 32)   0           block_5_branch_2_2_batch_normaliz\n__________________________________________________________________________________________________\nblock_5_branch_3_1_activation ( (None, 28, 28, 32)   0           block_5_branch_3_1_batch_normaliz\n__________________________________________________________________________________________________\nblock_5_concatenated (Concatena (None, 28, 28, 256)  0           block_5_branch_0_activation[0][0]\n                                                                 block_5_branch_1_2_activation[0][\n                                                                 block_5_branch_2_2_activation[0][\n                                                                 block_5_branch_3_1_activation[0][\n__________________________________________________________________________________________________\nglobal_max_pooling2d_16 (Global (None, 256)          0           block_5_concatenated[0][0]       \n==================================================================================================\nTotal params: 6,515,520\nTrainable params: 6,509,888\nNon-trainable params: 5,632\n__________________________________________________________________________________________________\n"
    }
   ],
   "source": [
    "model.summary()"
   ]
  }
 ],
 "metadata": {
  "kernelspec": {
   "display_name": "Python 3",
   "language": "python",
   "name": "python3"
  },
  "language_info": {
   "codemirror_mode": {
    "name": "ipython",
    "version": 3
   },
   "file_extension": ".py",
   "mimetype": "text/x-python",
   "name": "python",
   "nbconvert_exporter": "python",
   "pygments_lexer": "ipython3",
   "version": "3.6.8"
  }
 },
 "nbformat": 4,
 "nbformat_minor": 2
}
