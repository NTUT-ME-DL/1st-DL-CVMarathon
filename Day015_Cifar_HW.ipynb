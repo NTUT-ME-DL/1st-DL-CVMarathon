{
 "cells": [
  {
   "cell_type": "markdown",
   "metadata": {},
   "source": [
    "# 內容\n",
    "運用前幾天所學的觀念，搭建一個 CNN 分類器"
   ]
  },
  {
   "cell_type": "markdown",
   "metadata": {},
   "source": [
    "# 目的\n",
    "熟悉 CNN 分類器搭建的步驟與原理\n"
   ]
  },
  {
   "cell_type": "code",
   "execution_count": 4,
   "metadata": {},
   "outputs": [],
   "source": [
    "from keras.models import Sequential\n",
    "from keras.layers import Conv2D, MaxPooling2D, Flatten, BatchNormalization, Activation, Dropout, Dense\n",
    "from keras.datasets import cifar10\n",
    "import numpy as np\n",
    "import tensorflow as tf\n",
    "from sklearn.preprocessing import OneHotEncoder\n"
   ]
  },
  {
   "cell_type": "code",
   "execution_count": 2,
   "metadata": {},
   "outputs": [
    {
     "name": "stdout",
     "output_type": "stream",
     "text": "Downloading data from https://www.cs.toronto.edu/~kriz/cifar-10-python.tar.gz\n170500096/170498071 [==============================] - 520s 3us/step\n(50000, 32, 32, 3)\n"
    }
   ],
   "source": [
    "(x_train, y_train), (x_test, y_test) = cifar10.load_data()\n",
    "\n",
    "print(x_train.shape) # Output：(50000, 32, 32, 3)\n",
    "\n",
    "# Normalize Data function\n",
    "def normalize(x_train,x_test):\n",
    "    mean = np.mean(x_train, axis=(0,1,2,3))\n",
    "    standardization = np.std(x_train, axis=(0, 1, 2, 3))\n",
    "    x_train = (x_train - mean) / (standardization + 1e-7)\n",
    "    x_test = (x_test - mean) / (standardization + 1e-7) \n",
    "    return x_train, x_test, mean, standardization\n",
    "    \n",
    "    \n",
    "# Normalize Training and Test set    \n",
    "x_train, x_test, mean_train, standardization_train = normalize(x_train, x_test) "
   ]
  },
  {
   "cell_type": "code",
   "execution_count": 5,
   "metadata": {},
   "outputs": [
    {
     "name": "stderr",
     "output_type": "stream",
     "text": "C:\\Users\\x2206\\AppData\\Local\\Programs\\Python\\Python36\\lib\\site-packages\\sklearn\\preprocessing\\_encoders.py:415: FutureWarning: The handling of integer data will change in version 0.22. Currently, the categories are determined based on the range [0, max(values)], while in the future they will be determined based on the unique values.\nIf you want the future behaviour and silence this warning, you can specify \"categories='auto'\".\nIn case you used a LabelEncoder before this OneHotEncoder to convert the categories to integers, then you can now use the OneHotEncoder directly.\n  warnings.warn(msg, FutureWarning)\n"
    }
   ],
   "source": [
    "# One hot encoding\n",
    "one_hot_encoder = OneHotEncoder()\n",
    "y_train = one_hot_encoder.fit_transform(y_train).toarray()\n",
    "y_test = one_hot_encoder.transform(y_test).toarray()"
   ]
  },
  {
   "cell_type": "code",
   "execution_count": 10,
   "metadata": {},
   "outputs": [
    {
     "name": "stderr",
     "output_type": "stream",
     "text": "C:\\Users\\x2206\\AppData\\Roaming\\Python\\Python36\\site-packages\\ipykernel_launcher.py:16: UserWarning: Update your `Dense` call to the Keras 2 API: `Dense(activation=\"relu\", units=100)`\n  app.launch_new_instance()\nC:\\Users\\x2206\\AppData\\Roaming\\Python\\Python36\\site-packages\\ipykernel_launcher.py:19: UserWarning: Update your `Dense` call to the Keras 2 API: `Dense(activation=\"sigmoid\", units=10)`\nEpoch 1/100\n50000/50000 [==============================] - 106s 2ms/step - loss: 1.4796 - accuracy: 0.4971\nEpoch 2/100\n50000/50000 [==============================] - 105s 2ms/step - loss: 0.9867 - accuracy: 0.6519\nEpoch 3/100\n50000/50000 [==============================] - 109s 2ms/step - loss: 0.7754 - accuracy: 0.7228\nEpoch 4/100\n50000/50000 [==============================] - 106s 2ms/step - loss: 0.6306 - accuracy: 0.7744\nEpoch 5/100\n50000/50000 [==============================] - 105s 2ms/step - loss: 0.5129 - accuracy: 0.8142\nEpoch 6/100\n50000/50000 [==============================] - 108s 2ms/step - loss: 0.4097 - accuracy: 0.8509\nEpoch 7/100\n50000/50000 [==============================] - 104s 2ms/step - loss: nan - accuracy: 0.3133\nEpoch 8/100\n50000/50000 [==============================] - 98s 2ms/step - loss: nan - accuracy: 0.1000\nEpoch 9/100\n50000/50000 [==============================] - 100s 2ms/step - loss: nan - accuracy: 0.1000\nEpoch 10/100\n50000/50000 [==============================] - 120s 2ms/step - loss: nan - accuracy: 0.1000\nEpoch 11/100\n45300/50000 [==========================>...] - ETA: 11s - loss: nan - accuracy: 0.0997"
    }
   ],
   "source": [
    "\n",
    "model = Sequential()\n",
    "\n",
    "model.add(Conv2D(filters=32, kernel_size=(3, 3), input_shape=(32, 32, 3)))#32,3,3,input_shape=(32,32,3),activation='relu''\n",
    "model.add(BatchNormalization())\n",
    "model.add(Activation(\"relu\"))\n",
    "\n",
    "model.add(MaxPooling2D(pool_size=(2,2)))\n",
    "\n",
    "model.add(Conv2D(filters=32, kernel_size=(3, 3)))\n",
    "model.add(BatchNormalization())\n",
    "\n",
    "#flatten\n",
    "model.add(Flatten())\n",
    "\n",
    "#FC\n",
    "model.add(Dense(output_dim=100, activation=\"relu\"))\n",
    "\n",
    "#輸出\n",
    "model.add(Dense(output_dim=10, activation='sigmoid'))\n",
    "\n",
    "#超過兩個就要選categorical_crossentrophy\n",
    "model.compile(optimizer=\"adam\", loss=\"categorical_crossentropy\", metrics=['accuracy'])\n",
    "model.fit(x_train, y_train, batch_size=100, epochs=100)"
   ]
  },
  {
   "cell_type": "markdown",
   "metadata": {},
   "source": [
    "- 預測新圖片時，圖片也需前處理，且大小要與訓練時的圖片打小相同\n",
    "- ((input - mean) / (stardardization + 1e-7) )：這裡是對圖片做 Batch Normalization"
   ]
  },
  {
   "cell_type": "code",
   "execution_count": null,
   "metadata": {},
   "outputs": [],
   "source": [
    "# Batch Normalization\n",
    "x_predict = (np.zeros(shape=(1, 32, 32, 3)) - mean_train) / (stardardization_train + 1e-7) \n",
    "model.predict(x_predict)"
   ]
  }
 ],
 "metadata": {
  "kernelspec": {
   "display_name": "Python 3",
   "language": "python",
   "name": "python3"
  },
  "language_info": {
   "codemirror_mode": {
    "name": "ipython",
    "version": 3
   },
   "file_extension": ".py",
   "mimetype": "text/x-python",
   "name": "python",
   "nbconvert_exporter": "python",
   "pygments_lexer": "ipython3",
   "version": "3.6.8"
  }
 },
 "nbformat": 4,
 "nbformat_minor": 2
}