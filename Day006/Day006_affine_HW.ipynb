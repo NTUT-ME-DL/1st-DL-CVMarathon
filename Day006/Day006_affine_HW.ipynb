{
 "cells": [
  {
   "cell_type": "markdown",
   "metadata": {},
   "source": [
    "# 作業\n",
    "\n",
    "練習以旋轉變換 + 平移變換來實現仿射變換\n",
    "\n",
    "旋轉 45 度 + 縮放 0.5 倍 + 平移 (x+100, y-50)"
   ]
  },
  {
   "cell_type": "code",
   "execution_count": 1,
   "metadata": {},
   "outputs": [],
   "source": [
    "import cv2\n",
    "import time\n",
    "import numpy as np\n",
    "\n",
    "img = cv2.imread(\"lena.png\")"
   ]
  },
  {
   "cell_type": "markdown",
   "execution_count": null,
   "metadata": {},
   "outputs": [],
   "source": [
    "Case 1: rotation > scale > shift"
   ]
  },
  {
   "cell_type": "code",
   "execution_count": 4,
   "metadata": {},
   "outputs": [
    {
     "name": "stdout",
     "output_type": "stream",
     "text": "Rotation Matrix\n[[  0.35355339   0.35355339  74.98066402]\n [ -0.35355339   0.35355339 256.        ]]\nTranslation Matrix\n[[  1.   0. 100.]\n [  0.   1. -50.]]\n"
    }
   ],
   "source": [
    "rows, cols = img.shape[:2]\n",
    "\n",
    "# 取得旋轉矩陣\n",
    "# getRotationMatrix2D(center, angle, scale)\n",
    "\n",
    "matrix_rotate = cv2.getRotationMatrix2D((cols // 2, rows // 2), 45, 0.5)\n",
    "print('Rotation Matrix')\n",
    "print(martix_rotate)\n",
    "\n",
    "# 取得平移矩陣\n",
    "matrix_translate = np.array([[1, 0, 100], [0, 1, -50]], dtype=np.float32)\n",
    "print('Translation Matrix')\n",
    "print(matrix_translate)\n",
    "\n",
    "# 旋轉\n",
    "img_rotate = cv2.warpAffine(img, matrix_rotate, (cols, rows))\n",
    "\n",
    "# 平移\n",
    "img_rotate_trans = cv2.warpAffine(img_rotate, matrix_translate, (cols, rows))\n",
    "\n",
    "# 組合 + 顯示圖片\n",
    "img_show_rotate_trans = np.hstack((img, img_rotate, img_rotate_trans))\n",
    "\n",
    "while True:\n",
    "    cv2.imshow('Rotate 45, scale 0.5, Translate x+100, y-50', img_show_rotate_trans)\n",
    "    k = cv2.waitKey(0)\n",
    "    if k == 27:\n",
    "        cv2.destroyAllWindows()\n",
    "        break"
   ]
  },
  {
   "cell_type": "markdown",
   "metadata": {},
   "source": [
    "Case 2: any three point"
   ]
  },
  {
   "cell_type": "code",
   "execution_count": 26,
   "metadata": {},
   "outputs": [],
   "source": [
    "rows, cols = img.shape[:2]\n",
    "\n",
    "# 建立兩組三點\n",
    "point_before = np.array([[50,50], [300,100], [200,300]], dtype=np.float32)\n",
    "point_after = np.array([[80,80], [330,150], [300,300]], dtype=np.float32)\n",
    "\n",
    "# 透過兩組三點的關係，取得 affine 矩陣\n",
    "affine_matrix = cv2.getAffineTransform(point_before, point_after)\n",
    "\n",
    "img_before = img.copy()\n",
    "img_after = cv2.warpAffine(img, affine_matrix, (rows, cols))\n",
    "\n",
    "# 在圖片上標記點和文字\n",
    "for index, point in enumerate(point_before):\n",
    "    point = tuple(map(int, point))\n",
    "\n",
    "    cv2.circle(img_before, point, 3, (0, 255, 0), -1)\n",
    "    cv2.putText(img_before, str(index), (point[0] + 5, point[1] + 5), cv2.FONT_HERSHEY_COMPLEX, 1, (0, 255, 0), 1)\n",
    "\n",
    "for index, point in enumerate(point_after):\n",
    "    point = tuple(map(int, point))\n",
    "\n",
    "    cv2.circle(img_after, point, 3, (0, 255, 0), -1)\n",
    "    cv2.putText(img_after, str(index), (point[0] + 5, point[1] + 5), cv2.FONT_HERSHEY_COMPLEX, 1, (0, 255, 0), 1)\n",
    "\n",
    "# 組合 + 顯示圖片\n",
    "img_show_affine = np.hstack((img_before, img_after))\n",
    "\n",
    "while True:\n",
    "    cv2.imshow(\"affine transformation\", img_show_affine)\n",
    "    k = cv2.waitKey(0)\n",
    "    if k == 27:\n",
    "        cv2.destroyAllWindows()\n",
    "        break"
   ]
  }
 ],
 "metadata": {
  "kernelspec": {
   "display_name": "Python 3",
   "language": "python",
   "name": "python3"
  },
  "language_info": {
   "codemirror_mode": {
    "name": "ipython",
    "version": 3
   },
   "file_extension": ".py",
   "mimetype": "text/x-python",
   "name": "python",
   "nbconvert_exporter": "python",
   "pygments_lexer": "ipython3",
   "version": "3.6.8"
  }
 },
 "nbformat": 4,
 "nbformat_minor": 2
}