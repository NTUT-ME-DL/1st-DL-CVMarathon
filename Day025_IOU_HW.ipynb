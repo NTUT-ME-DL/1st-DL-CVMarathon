{
 "cells": [
  {
   "cell_type": "code",
   "metadata": {},
   "outputs": [],
   "source": [
    "import cv2\n",
    "import matplotlib.patches as patches\n",
    "\n",
    "import matplotlib.pyplot as plt\n",
    "%matplotlib inline\n",
    "\n",
    "# 讀取照片\n",
    "image = cv2.imread('image/dog.jpg')\n",
    "\n",
    "# 由於 cv2 在讀取照片時，會讀成 BGR，因此我們將其轉為 RGB\n",
    "image = image[:,:,::-1]"
   ]
  },
  {
   "cell_type": "markdown",
   "metadata": {},
   "outputs": [],
   "source": [
    "#先將 BBOX 格式設為 (X, Y, W, H)，也就是座標以及 BBOX 的寬和高"
   ]
  },
  {
   "cell_type": "code",
   "metadata": {},
   "outputs": [],
   "source": [
    "ground_truth_bbox = [1900, 700, 1800, 1800]\n",
    "prediction_bbox = [1800, 800, 1500, 1500]"
   ]
  },
  {
   "cell_type": "markdown",
   "metadata": {},
   "outputs": [],
   "source": [
    "轉為 (x0, y0, x1, y1)"
   ]
  },
  {
   "cell_type": "code",
   "metadata": {},
   "outputs": [],
   "source": [
    "ground_truth_bbox_transform = [ground_truth_bbox[0], ground_truth_bbox[1], ground_truth_bbox[0] + ground_truth_bbox[2], ground_truth_bbox[1] + ground_truth_bbox[3]]\n",
    "prediction_bbox_transform = [prediction_bbox[0], prediction_bbox[1], prediction_bbox[0] + prediction_bbox[2], prediction_bbox[1] + prediction_bbox[3]]"
   ]
  },
  {
   "cell_type": "code",
   "metadata": {},
   "outputs": [],
   "source": [
    "plt.rcParams['figure.figsize'] = (20, 10)\n",
    "\n",
    "\n",
    "fig, axis = plt.subplots(1)\n",
    "\n",
    "# 畫出圖片\n",
    "axis.imshow(image)\n",
    "\n",
    "# 畫 bbox prediction\n",
    "rect = patches.Rectangle((prediction_bbox[0], prediction_bbox[1]), prediction_bbox[2], prediction_bbox[3], linewidth=3, edgecolor='r', facecolor='none')\n",
    "\n",
    "axis.text(prediction_bbox[0], prediction_bbox[1], 'prediction', withdash=True, size=20)\n",
    "# 畫BBOX-Ground_Truth\n",
    "rect_1 = patches.Rectangle((ground_truth_bbox[0], ground_truth_bbox[1]), ground_truth_bbox[2], ground_truth_bbox[3], linewidth=3, edgecolor='b', facecolor='none')\n",
    "axis.text(ground_truth_bbox[0], ground_truth_bbox[1], 'Ground Truth', withdash=True, size=20)\n",
    "\n",
    "# Add the patch to the Axes\n",
    "axis.add_patch(rect)\n",
    "axis.add_patch(rect_1)\n",
    "\n",
    "plt.show()"
   ]
  },
  {
   "cell_type": "markdown",
   "metadata": {},
   "outputs": [],
   "source": [
    "## 定義IOU計算"
   ]
  },
  {
   "cell_type": "code",
   "metadata": {},
   "outputs": [],
   "source": [
    "def bb_intersection_over_union(box_a, box_b):\n",
    "    # determine the (x, y) coordinates of the intersection rectangle\n",
    "    x_a = max(box_a[0], box_b[0])\n",
    "    y_a = max(box_a[1], box_b[1])\n",
    "    x_b = min(box_a[2], box_b[2])\n",
    "    y_b = min(box_a[3], box_b[3])\n",
    "\n",
    "    # The actual reason of adding 1 is because xB, xA both represent pixel coordinates. Suppose you have 6 pixels, the coordinates are from 0 to 5.  When you try to calculate the span of these 6 pixels, it should be  (5 - 0 + 1) = 6, there you have the extra 1.\n",
    "    # 計算交集區域\n",
    "    inter_area = max(0, x_b - x_a + 1) * max(0, y_b - y_a + 1)\n",
    "    \n",
    "    # 計算各自的BBOX大小\n",
    "    box_a_area = (box_a[2] - box_a[0] + 1) * (box_a[3] - box_a[1] + 1)\n",
    "    box_b_area = (box_b[2] - box_b[0] + 1) * (box_b[3] - box_b[1] + 1)\n",
    "    \n",
    "    # 計算 IOU\n",
    "    iou = inter_area / (box_a_area + box_b_area - inter_area)\n",
    "\n",
    "    # return the intersection over union value\n",
    "    return iou"
   ]
  },
  {
   "cell_type": "code",
   "metadata": {},
   "outputs": [],
   "source": [
    "iou = bb_intersection_over_union(ground_truth_bbox_transform, prediction_bbox_transform)"
   ]
  },
  {
   "cell_type": "code",
   "metadata": {},
   "outputs": [],
   "source": [
    "print('IOU值：', iou) # 應該要得到 0.6196482836879266"
   ]
  }
 ],
 "metadata": {
  "kernelspec": {
   "display_name": "Python 3",
   "language": "python",
   "name": "python3"
  },
  "language_info": {
   "codemirror_mode": {
    "name": "ipython",
    "version": 3
   },
   "file_extension": ".py",
   "mimetype": "text/x-python",
   "name": "python",
   "nbconvert_exporter": "python",
   "pygments_lexer": "ipython3",
   "version": "3.6.8"
  }
 },
 "nbformat": 4,
 "nbformat_minor": 2
}