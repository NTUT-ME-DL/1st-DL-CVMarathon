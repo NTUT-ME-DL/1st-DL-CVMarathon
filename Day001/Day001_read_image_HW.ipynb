{
  "nbformat": 4,
  "nbformat_minor": 0,
  "metadata": {
    "colab": {
      "name": "Day001_read_image_HW.ipynb",
      "provenance": [],
      "collapsed_sections": []
    },
    "kernelspec": {
      "name": "python3",
      "display_name": "Python 3"
    }
  },
  "cells": [
    {
      "cell_type": "code",
      "metadata": {
        "id": "JQUK_LvOlB3O",
        "colab_type": "code",
        "colab": {}
      },
      "source": [
        "import cv2\n",
        "\n",
        "img_path = 'data/lena.png'\n",
        "\n",
        "# 以彩色圖片的方式載入\n",
        "img = cv2.imread(img_path, cv2.IMREAD_COLOR)\n",
        "\n",
        "# 以灰階圖片的方式載入\n",
        "img_gray = cv2.imread(img_path, cv2.IMREAD_GRAYSCALE)\n",
        "\n",
        "# 為了要不斷顯示圖片，所以使用一個迴圈\n",
        "while True:\n",
        "    # 顯示彩圖\n",
        "    cv2.imshow('rgb', img)\n",
        "    # 顯示灰圖\n",
        "    cv2.imshow('gray', img_gray)\n",
        "\n",
        "    # 直到按下 ESC 鍵才會自動關閉視窗結束程式\n",
        "    k = cv2.waitKey(0)\n",
        "    if k == 27:\n",
        "        cv2.destroyAllWindows()\n",
        "        break"
      ],
      "execution_count": 0,
      "outputs": []
    }
  ]
}