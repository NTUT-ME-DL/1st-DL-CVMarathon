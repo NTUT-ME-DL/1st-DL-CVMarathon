{
 "cells": [
  {
   "cell_type": "markdown",
   "metadata": {
    "colab_type": "text",
    "id": "f6jN0Y8x4gNA"
   },
   "source": [
    "# 練習內容\n",
    "運用 Keras 建立簡單且相同神經元數量的 Dense Layer（全連接層） 與 Convolution2D Layer（卷積層），並計算總參數量相差多少。"
   ]
  },
  {
   "cell_type": "markdown",
   "metadata": {},
   "source": [
    "# 練習目的\n",
    "- 了解 Convolution layer 與 Fully connected layer 參數量的差異\n",
    "- Convolution2D function 中有許多參數可以設置，未來的章節會詳細介紹\n",
    "- 建立不同結構的神經網路"
   ]
  },
  {
   "cell_type": "code",
   "execution_count": 5,
   "metadata": {},
   "outputs": [],
   "source": [
    "from keras.models import Sequential\n",
    "from keras.layers import Convolution2D, Input, Dense # Dense is meant fully connected layer"
   ]
  },
  {
   "cell_type": "code",
   "execution_count": 20,
   "metadata": {},
   "outputs": [
    {
     "name": "stdout",
     "output_type": "stream",
     "text": "Model: \"sequential_27\"\n_________________________________________________________________\nLayer (type)                 Output Shape              Param #   \n=================================================================\nconv2d_14 (Conv2D)           (None, 26, 26, 32)        320       \n=================================================================\nTotal params: 320\nTrainable params: 320\nNon-trainable params: 0\n_________________________________________________________________\nNone\n\n\n\n\nModel: \"sequential_28\"\n_________________________________________________________________\nLayer (type)                 Output Shape              Param #   \n=================================================================\ndense_6 (Dense)              (None, 784, 288)          576       \n=================================================================\nTotal params: 576\nTrainable params: 576\nNon-trainable params: 0\n_________________________________________________________________\nNone\n"
    }
   ],
   "source": [
    "# 輸入照片尺寸 28 × 28 × 1\n",
    "# 使用一層 288 個神經元\n",
    "\n",
    "# 使用 keras 中的可堆疊結構的 model\n",
    "model_cnn = Sequential()\n",
    "\n",
    "# Kernel size 3 × 3，用 32 張，輸入大小 28 × 28 × 1\n",
    "model_cnn.add(Convolution2D(filters=32, kernel_size=(3, 3), input_shape=(28, 28, 1)))\n",
    "\n",
    "# 印出 model 結構\n",
    "# 可以發現 CNN 的參數為 320，這是因為 CNN 與 一般的神經網路一樣，有著 bias（偏差） 的參數\n",
    "print(\"Convlutional layer \")\n",
    "print(model_cnn.summary())\n",
    "print(\"\\n\\n\\n\")\n",
    "\n",
    "# 使用 keras 中的可堆疊結構的 model\n",
    "model_fc = Sequential()\n",
    "\n",
    "# 剛才 CNN 使用了 3 × 3 × 32 個神經元，這邊也使用相同的神經元數量\n",
    "model_fc.add(Dense(units=288, input_shape=(784, 1)))\n",
    "\n",
    "# 印出 model 結構\n",
    "print(\"Fully connected layer\")\n",
    "print(model_fc.summary())\n",
    "\n",
    "# ##大家可以自己變換設定看看參數變化"
   ]
  },
  {
   "cell_type": "code",
   "execution_count": null,
   "metadata": {},
   "outputs": [],
   "source": []
  }
 ],
 "metadata": {
  "colab": {
   "name": "CNN-計算參數量.ipynb",
   "provenance": [],
   "version": "0.3.2"
  },
  "kernelspec": {
   "display_name": "Python 3",
   "language": "python",
   "name": "python3"
  },
  "language_info": {
   "codemirror_mode": {
    "name": "ipython",
    "version": 3
   },
   "file_extension": ".py",
   "mimetype": "text/x-python",
   "name": "python",
   "nbconvert_exporter": "python",
   "pygments_lexer": "ipython3",
   "version": "3.6.8"
  }
 },
 "nbformat": 4,
 "nbformat_minor": 1
}