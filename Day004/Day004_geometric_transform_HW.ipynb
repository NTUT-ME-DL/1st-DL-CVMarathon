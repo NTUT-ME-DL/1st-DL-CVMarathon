{
 "cells": [
  {
   "cell_type": "markdown",
   "metadata": {},
   "outputs": [],
   "source": [
    "# 作業\n",
    "\n",
    "實作本篇提到的三大概念\n",
    "\n",
    "- 翻轉：實作上下左右的翻轉\n",
    "- 縮放：比較鄰近差值與雙立方插值 (或雙線性插值) 的圖片品質\n",
    "- 平移：建立 Translation Transformation Matrix 來做平移"
   ]
  },
  {
   "cell_type": "code",
   "metadata": {},
   "outputs": [],
   "source": [
    "import cv2\n",
    "import time\n",
    "import numpy as np\n",
    "\n",
    "img_path = \"lena.png\"\n",
    "img = cv2.imread(img_path)"
   ]
  },
  {
   "cell_type": "markdown",
   "metadata": {},
   "outputs": [],
   "source": [
    "## 上下左右翻轉圖片"
   ]
  },
  {
   "cell_type": "code",
   "metadata": {},
   "outputs": [],
   "source": [
    "# 水平翻轉 (horizontal)\n",
    "img_h_flip = img[:, ::-1, :]\n",
    "\n",
    "# 垂直翻轉 (vertical)\n",
    "img_v_flip = img[::-1, :, :]\n",
    "\n",
    "# 水平 + 垂直翻轉\n",
    "img_hv_flip = img[::-1, ::-1, :]\n",
    "\n",
    "# 組合 + 顯示圖片\n",
    "h_flip = np.hstack((img, img_h_flip))\n",
    "v_flip = np.hstack((img_v_flip, img_hv_flip))\n",
    "img_flip = np.vstack((h_flip, v_flip))\n",
    "while True:\n",
    "    cv2.imshow('flip image', img_flip)\n",
    "    k = cv2.waitKey(0)\n",
    "    if k == 27:\n",
    "        cv2.destroyAllWindows()\n",
    "        break"
   ]
  },
  {
   "cell_type": "markdown",
   "metadata": {},
   "outputs": [],
   "source": [
    "## 縮放圖片\n",
    "\n",
    "### 放大\n",
    "\n",
    "我們先透過縮小圖片去壓縮原有圖片保有的資訊，再放大比較不同方法之間的速度與圖片品質"
   ]
  },
  {
   "cell_type": "code",
   "metadata": {},
   "outputs": [],
   "source": [
    "# 將圖片放大原圖的 1.6 倍\n",
    "fx, fy = 1.6, 1.6\n",
    "\n",
    "# 鄰近差值 scale + 計算花費時間\n",
    "start_time = time.time()\n",
    "img_area_scale = cv2.resize(img, None, fx=fx, fy=fy, interpolation=cv2.INTER_NEAREST)\n",
    "print('INTER_NEAREST zoom cost {}'.format(time.time() - start_time))\n",
    "\n",
    "# 雙立方差補 scale + 計算花費時間\n",
    "start_time = time.time()\n",
    "img_cubic_scale = cv2.resize(img, None, fx=fx, fy=fy, interpolation=cv2.INTER_CUBIC)\n",
    "print('INTER_CUBIC zoom cost {}'.format(time.time() - start_time))\n",
    "\n",
    "# 組合 + 顯示圖片\n",
    "img_zoom = np.hstack((img_area_scale, img_cubic_scale))\n",
    "while True:\n",
    "    cv2.imshow('zoom image', img_zoom)\n",
    "    k = cv2.waitKey(0)\n",
    "    if k == 27:\n",
    "        cv2.destroyAllWindows()\n",
    "        break"
   ]
  },
  {
   "cell_type": "markdown",
   "metadata": {},
   "outputs": [],
   "source": [
    "## 平移幾何轉換"
   ]
  },
  {
   "cell_type": "code",
   "metadata": {},
   "outputs": [],
   "source": [
    "# 設定 transformation matrix\n",
    "# x 平移 50 pixel\n",
    "# y 平移 100 pixel\n",
    "transformation_matrix = np.array(([1, 0, 50], [0, 1, 100]), dtype=np.float32)\n",
    "shift_img = cv2.warpAffine(img, transformation_matrix, (img.shape[1], img.shape[0]))\n",
    "\n",
    "# 組合 + 顯示圖片\n",
    "img_shift = np.hstack((img, shift_img))\n",
    "while True:\n",
    "    cv2.imshow('shift image', img_shift)\n",
    "    k = cv2.waitKey(0)\n",
    "    if k == 27:\n",
    "        cv2.destroyAllWindows()\n",
    "        break"
   ]
  }
 ],
 "metadata": {
  "kernelspec": {
   "display_name": "Python 3",
   "language": "python",
   "name": "python3"
  },
  "language_info": {
   "codemirror_mode": {
    "name": "ipython",
    "version": 3
   },
   "file_extension": ".py",
   "mimetype": "text/x-python",
   "name": "python",
   "nbconvert_exporter": "python",
   "pygments_lexer": "ipython3",
   "version": "3.6.8"
  }
 },
 "nbformat": 4,
 "nbformat_minor": 2
}