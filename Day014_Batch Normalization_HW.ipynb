{
 "cells": [
  {
   "cell_type": "markdown",
   "metadata": {},
   "source": [
    "# 內容\n",
    "搭建 Conv2D + BN + Activation function\n"
   ]
  },
  {
   "cell_type": "markdown",
   "metadata": {},
   "source": [
    "# 目的\n",
    "了解如何搭建 CNN 基礎架構：Conv2D + BN + Activation function"
   ]
  },
  {
   "cell_type": "code",
   "execution_count": 2,
   "metadata": {},
   "outputs": [
    {
     "name": "stderr",
     "output_type": "stream",
     "text": "Using TensorFlow backend.\n"
    }
   ],
   "source": [
    "from keras.models import Sequential\n",
    "from keras.layers import Conv2D, MaxPooling2D, Flatten, Dense, BatchNormalization, Activation "
   ]
  },
  {
   "cell_type": "code",
   "execution_count": 4,
   "metadata": {},
   "outputs": [
    {
     "name": "stdout",
     "output_type": "stream",
     "text": "Model: \"sequential_1\"\n_________________________________________________________________\nLayer (type)                 Output Shape              Param #   \n=================================================================\nconv2d_1 (Conv2D)            (None, 32, 32, 32)        896       \n_________________________________________________________________\nbatch_normalization_1 (Batch (None, 32, 32, 32)        128       \n_________________________________________________________________\nactivation_1 (Activation)    (None, 32, 32, 32)        0         \n_________________________________________________________________\nconv2d_2 (Conv2D)            (None, 32, 32, 32)        9248      \n_________________________________________________________________\nbatch_normalization_2 (Batch (None, 32, 32, 32)        128       \n_________________________________________________________________\nactivation_2 (Activation)    (None, 32, 32, 32)        0         \n=================================================================\nTotal params: 10,400\nTrainable params: 10,272\nNon-trainable params: 128\n_________________________________________________________________\n"
    }
   ],
   "source": [
    "model = Sequential()\n",
    "\n",
    "# 使用 Sigmoid activation function\n",
    "model.add(Conv2D(filters=32, kernel_size=(3, 3), padding=\"same\", input_shape=(32, 32, 3)))\n",
    "model.add(BatchNormalization()) \n",
    "model.add(Activation(\"sigmoid\"))\n",
    "\n",
    "# 另一個常見的 Activation function 為 ReLU\n",
    "model.add(Conv2D(filters=32, kernel_size=(3, 3), padding=\"same\", input_shape=(32, 32, 3)))\n",
    "model.add(BatchNormalization()) \n",
    "model.add(Activation(\"relu\"))\n",
    "\n",
    "model.summary()"
   ]
  },
  {
   "cell_type": "code",
   "execution_count": null,
   "metadata": {},
   "outputs": [],
   "source": []
  }
 ],
 "metadata": {
  "kernelspec": {
   "display_name": "Python 3",
   "language": "python",
   "name": "python3"
  },
  "language_info": {
   "codemirror_mode": {
    "name": "ipython",
    "version": 3
   },
   "file_extension": ".py",
   "mimetype": "text/x-python",
   "name": "python",
   "nbconvert_exporter": "python",
   "pygments_lexer": "ipython3",
   "version": "3.6.8"
  }
 },
 "nbformat": 4,
 "nbformat_minor": 2
}