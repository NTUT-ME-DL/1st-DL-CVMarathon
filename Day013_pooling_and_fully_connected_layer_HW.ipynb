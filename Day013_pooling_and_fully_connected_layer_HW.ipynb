{
 "cells": [
  {
   "cell_type": "markdown",
   "metadata": {},
   "source": [
    "# 內容\n",
    "搭建 Max pooling 層與全連接層"
   ]
  },
  {
   "cell_type": "markdown",
   "metadata": {},
   "source": [
    "# 目標\n",
    "了解 Max pooling 的原理與 CNN、FC 層連結的方式"
   ]
  },
  {
   "cell_type": "code",
   "execution_count": 9,
   "metadata": {},
   "outputs": [],
   "source": [
    "from keras.models import Sequential\n",
    "from keras.layers import Conv2D, MaxPooling2D, Flatten, Dense, GlobalAveragePooling2D"
   ]
  },
  {
   "cell_type": "code",
   "execution_count": 12,
   "metadata": {},
   "outputs": [],
   "source": [
    "model = Sequential()\n",
    "\n",
    "model.add(Conv2D(filters=32, kernel_size=(3, 3), padding='same',input_shape=(32, 32, 3)))\n",
    "model.add(MaxPooling2D(pool_size=(2, 2), strides=(2, 2)))\n",
    "\n",
    "model.add(Conv2D(filters=64, kernel_size=(3, 3), padding='same'))\n",
    "model.add(MaxPooling2D(pool_size=(2, 2), strides=(2, 2)))\n",
    "\n",
    "model.add(Conv2D(filters=128, kernel_size=(3, 3), padding='same'))\n",
    "model.add(MaxPooling2D(pool_size=(1, 1), strides=(1, 1)))\n",
    "\n",
    "model.add(Conv2D(filters=10, kernel_size=(3, 3), padding='same'))\n",
    "model.add(Flatten())\n",
    "\n",
    "# 關掉Flatten，使用GlobalAveragePooling2D，完尺寸如何變化？\n",
    "# model.add(GlobalAveragePooling2D()) \n",
    "\n",
    "model.add(Dense(28)) ##全連接層使用28個units"
   ]
  },
  {
   "cell_type": "code",
   "execution_count": 13,
   "metadata": {},
   "outputs": [
    {
     "name": "stdout",
     "output_type": "stream",
     "text": "Model: \"sequential_6\"\n_________________________________________________________________\nLayer (type)                 Output Shape              Param #   \n=================================================================\nconv2d_21 (Conv2D)           (None, 32, 32, 32)        896       \n_________________________________________________________________\nmax_pooling2d_16 (MaxPooling (None, 16, 16, 32)        0         \n_________________________________________________________________\nconv2d_22 (Conv2D)           (None, 16, 16, 64)        18496     \n_________________________________________________________________\nmax_pooling2d_17 (MaxPooling (None, 8, 8, 64)          0         \n_________________________________________________________________\nconv2d_23 (Conv2D)           (None, 8, 8, 128)         73856     \n_________________________________________________________________\nmax_pooling2d_18 (MaxPooling (None, 8, 8, 128)         0         \n_________________________________________________________________\nconv2d_24 (Conv2D)           (None, 8, 8, 10)          11530     \n_________________________________________________________________\nflatten_4 (Flatten)          (None, 640)               0         \n_________________________________________________________________\ndense_3 (Dense)              (None, 28)                17948     \n=================================================================\nTotal params: 122,726\nTrainable params: 122,726\nNon-trainable params: 0\n_________________________________________________________________\n"
    }
   ],
   "source": [
    "model.summary()"
   ]
  },
  {
   "cell_type": "code",
   "execution_count": null,
   "metadata": {},
   "outputs": [],
   "source": []
  }
 ],
 "metadata": {
  "colab": {
   "name": "池化、全連接層.ipynb",
   "provenance": []
  },
  "kernelspec": {
   "display_name": "Python 3",
   "language": "python",
   "name": "python3"
  },
  "language_info": {
   "codemirror_mode": {
    "name": "ipython",
    "version": 3
   },
   "file_extension": ".py",
   "mimetype": "text/x-python",
   "name": "python",
   "nbconvert_exporter": "python",
   "pygments_lexer": "ipython3",
   "version": "3.6.8"
  }
 },
 "nbformat": 4,
 "nbformat_minor": 1
}