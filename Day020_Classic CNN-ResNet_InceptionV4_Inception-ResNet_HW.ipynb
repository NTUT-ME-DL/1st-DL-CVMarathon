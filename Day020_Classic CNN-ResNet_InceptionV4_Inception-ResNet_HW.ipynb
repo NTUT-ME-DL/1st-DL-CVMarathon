{
 "cells": [
  {
   "cell_type": "markdown",
   "metadata": {},
   "outputs": [],
   "source": [
    "# 內容\n",
    "- 學習搭建 Residual Block\n",
    "- 學習搭建 Inception-ResNet Block"
   ]
  },
  {
   "cell_type": "markdown",
   "metadata": {},
   "outputs": [],
   "source": [
    "# 目的\n",
    "- 了解 Residual Block 的原理\n",
    "- 了解如何結合 Inception 與 Residual 概念"
   ]
  },
  {
   "cell_type": "code",
   "metadata": {},
   "outputs": [],
   "source": [
    "import numpy as np\n",
    "from keras.models import Model\n",
    "from keras.layers import Flatten, Dense, Conv2D, MaxPooling2D, GlobalMaxPooling2D, GlobalAveragePooling2D, Input, BatchNormalization, Activation, BatchNormalization, Activation, Concatenate, Lambda\n",
    "from keras import backend as K\n",
    "from keras import layers"
   ]
  },
  {
   "cell_type": "markdown",
   "metadata": {},
   "outputs": [],
   "source": [
    "請參考 image/resnet_structure.png"
   ]
  },
  {
   "cell_type": "markdown",
   "metadata": {},
   "outputs": [],
   "source": [
    "# ResNet V1"
   ]
  },
  {
   "cell_type": "code",
   "metadata": {},
   "outputs": [],
   "source": [
    "def residual_block_v1(input_tensor, kernel_size, filters, stage, block):\n",
    "    filters1, filters2 = filters\n",
    "    conv_name_base = 'res' + str(stage) + block + '_branch'\n",
    "    bn_name_base = 'bn' + str(stage) + block + '_branch'\n",
    "\n",
    "    x = Conv2D(filters1, (1, 1), name=conv_name_base + '2a')(input_tensor)\n",
    "    x = BatchNormalization(axis=3, name=bn_name_base + '2a')(x)\n",
    "    x = Activation('relu')(x)\n",
    "\n",
    "    x = Conv2D(filters2, kernel_size,\n",
    "               padding='same', name=conv_name_base + '2b')(x)\n",
    "    x = BatchNormalization(axis=3, name=bn_name_base + '2b')(x)\n",
    "   \n",
    "    x = layers.add([x, input_tensor])\n",
    "    x = Activation('relu')(x)\n",
    "    return x"
   ]
  },
  {
   "cell_type": "markdown",
   "metadata": {},
   "outputs": [],
   "source": [
    "# 參考 ResNet V1 搭建 ResNet V2 版本的 Residual Block"
   ]
  },
  {
   "cell_type": "code",
   "metadata": {},
   "outputs": [],
   "source": [
    "def residual_block_v2(input_tensor, kernel_size, filters, stage, block):\n",
    "    filters1, filters2 = filters\n",
    "    conv_name_base = 'res' + str(stage) + block + '_branch'\n",
    "    bn_name_base = 'bn' + str(stage) + block + '_branch'\n",
    "\n",
    "    x = BatchNormalization(axis=3, name=bn_name_base + '2a')(input_tensor)\n",
    "    x = Activation('relu')(x)\n",
    "    x = Conv2D(filters1, kernel_size, padding='same', name=conv_name_base + '2a')(x)\n",
    "\n",
    "    x = BatchNormalization(axis=3, name=bn_name_base + '2b')(x)\n",
    "    x = Activation('relu')(x)\n",
    "    x = Conv2D(filters1, kernel_size, padding='same', name=conv_name_base + '2b')(x)\n",
    "\n",
    "    x = layers.add([x, input_tensor])\n",
    "    return x"
   ]
  },
  {
   "cell_type": "markdown",
   "metadata": {},
   "outputs": [],
   "source": [
    "## 設計一個先壓縮再回放的 ResNet V2 Block"
   ]
  },
  {
   "cell_type": "code",
   "metadata": {},
   "outputs": [],
   "source": [
    "def Residual_block_v2(input_tensor, kernel_size, stage, block, compression_size=96, ouput_size=128):\n",
    "    conv_name_base = 'res' + str(stage) + block + '_branch'\n",
    "    bn_name_base = 'bn' + str(stage) + block + '_branch'\n",
    "\n",
    "    x = BatchNormalization(axis=3, name=bn_name_base + '2a')(input_tensor)\n",
    "    x = Activation('relu')(x)\n",
    "    x = Conv2D(compression_size, kernel_size, padding='same', name=conv_name_base + '2a')(x)\n",
    "\n",
    "    x = BatchNormalization(axis=3, name=bn_name_base + '2b')(input_tensor)\n",
    "    x = Activation('relu')(x)\n",
    "    x = Conv2D(output_size, kernel_size, padding='same', name=conv_name_base + '2b')(x)\n",
    "\n",
    "    x = layers.add([x, input_tensor])\n",
    "    return x\n"
   ]
  },
  {
   "cell_type": "markdown",
   "metadata": {
    "colab_type": "text",
    "id": "tfa8Vx5iJbZU"
   },
   "outputs": [],
   "source": [
    "- Inception A Block：請參考 image/inception-resnet-a.png\n",
    "- Inception B Block：請參考 image/inception-resnet-b.png\n",
    "- Inception C Block：請參考 image/inception-resnet-c.png"
   ]
  },
  {
   "cell_type": "code",
   "metadata": {},
   "outputs": [],
   "source": [
    "def conv2d_bn(x, filters, kernel_size, padding='same', strides=(1, 1), batch_normalizer=True, activation='relu', name=None):\n",
    "    if name is not None:\n",
    "        conv_name = name + '_conv'\n",
    "        bn_name = name + '_bn'\n",
    "        act_name = name + '_act'\n",
    "    else:\n",
    "        conv_name = None\n",
    "        bn_name = None\n",
    "        act_name = None\n",
    "    \n",
    "    if K.image_data_format() == 'channels_first':\n",
    "        bn_axis = 1\n",
    "    else:\n",
    "        bn_axis = 3\n",
    "\n",
    "    x = Conv2D(\n",
    "            filters, kernel_size,\n",
    "            strides=strides, padding=padding,\n",
    "            use_bias=False, name=conv_name)(x)\n",
    "\n",
    "    if batch_normalizer:\n",
    "        x = BatchNormalization(axis=bn_axis, scale=False, name=bn_name)(x)\n",
    "\n",
    "    if activation:\n",
    "        x = Activation(activation, name=act_name)(x)\n",
    "    \n",
    "    return x"
   ]
  },
  {
   "cell_type": "code",
   "metadata": {},
   "outputs": [],
   "source": [
    "def residual_block(input_tensor, kernel_size, filters, stage, block):\n",
    "    filters1, filters2, filters3 = filters\n",
    "    conv_name_base = 'res' + str(stage) + block + '_branch'\n",
    "    bn_name_base = 'bn' + str(stage) + block + '_branch'\n",
    "\n",
    "    x = Conv2D(filters1, (1, 1), name=conv_name_base + '2a')(input_tensor)\n",
    "    x = BatchNormalization(axis=3, name=bn_name_base + '2a')(x)\n",
    "    x = Activation('relu')(x)\n",
    "\n",
    "    x = Conv2D(filters2, kernel_size,\n",
    "               padding='same', name=conv_name_base + '2b')(x)\n",
    "    x = BatchNormalization(axis=3, name=bn_name_base + '2b')(x)\n",
    "    x = Activation('relu')(x)\n",
    "\n",
    "    x = Conv2D(filters3, (1, 1), name=conv_name_base + '2c')(x)\n",
    "    x = BatchNormalization(axis=3, name=bn_name_base + '2c')(x)\n",
    "\n",
    "    x = layers.add([x, input_tensor])\n",
    "    x = Activation('relu')(x)\n",
    "    return x"
   ]
  },
  {
   "cell_type": "markdown",
   "metadata": {
    "colab_type": "text",
    "id": "M0BEkO7VJbaI"
   },
   "outputs": [],
   "source": [
    "參考上方的 Residual_block()，搭建 Inception-ResNet 中的 Inception Block"
   ]
  },
  {
   "cell_type": "code",
   "metadata": {},
   "outputs": [],
   "source": [
    "def inception_resnet_block(x, scale, block_type, activation='relu'):\n",
    "    if block_type == 'incpetion_block_a':\n",
    "        branch_0 = conv2d_bn(x, 32, (1, 1), name='inception_block_a_branch0_0')\n",
    "        branch_1 = conv2d_bn(x, 32, (1, 1), name='inception_block_a_branch1_0')\n",
    "        branch_1 = conv2d_bn(branch_1, 32, (3, 3), name='inception_block_a_branch1_1')\n",
    "        branch_2 = conv2d_bn(x, 32, (1, 1), name='inception_block_a_branch_2_0')\n",
    "        branch_2 = conv2d_bn(branch_2, 48, (3, 3), name='inception_block_a_branch_2_1')\n",
    "        branch_2 = branch_2 = conv2d_bn(branch_2, 64, (3, 3), name='inception_block_a_branch_2_2')\n",
    "\n",
    "        branches = [branch_0, branch_1, branch_2]\n",
    "        mixed = Concatenate(axis=3)(branches)\n",
    "        mixed = conv2d_bn(mixed, 384, (1, 1), name=\"inception_block_a_join_conv\", activation=None)\n",
    "\n",
    "    elif block_type == 'incpetion_block_b':\n",
    "        branch_0 = conv2d_bn(x, 192, (1, 1), name='inception_block_b_branch0_0')\n",
    "        branch_1 = conv2d_bn(x, 128, (1, 1), name='inception_block_b_branch1_0')\n",
    "        branch_1 = conv2d_bn(branch_1, 160, (1, 7), name='inception_block_b_branch1_1')\n",
    "        branch_1 = branch_1 = conv2d_bn(branch_1, 192, (7, 1), name='inception_block_b_branch1_1')\n",
    "\n",
    "        branches = [branch_0, branch_1]\n",
    "        mixed = Concatenate(axis=3)(branches)\n",
    "        mixed = conv2d_bn(mixed, 1154, (1, 1), name=\"inception_block_a_join_conv\", activation=None)\n",
    "\n",
    "    elif block_type == 'incpetion_block_c':\n",
    "        branch_0 = conv2d_bn(x, 192, (1, 1), name='inception_block_c_branch0_0')\n",
    "        branch_1 = conv2d_bn(x, 192, (1, 1), name='inception_block_c_branch1_0')\n",
    "        branch_1 = conv2d_bn(branch_1, 192, (1, 3), name='inception_block_c_branch1_1')\n",
    "        branch_1 = branch_1 = conv2d_bn(branch_1, 192, (3, 1), name='inception_block_c_branch1_1')\n",
    "\n",
    "        branches = [branch_0, branch_1]\n",
    "        mixed = Concatenate(axis=3)(branches)\n",
    "\n",
    "        mixed = conv2d_bn(mixed, 1792, (1, 1), name=\"inception_block_a_join_conv\", activation=None)\n",
    "\n",
    "    else:\n",
    "        raise ValueError('Unknown Inception-ResNet block type. '\n",
    "                         'Expects \"inception_block_a\", \"inception_block_b\" or \"inception_block_c\", '\n",
    "                         'but got: ' + str(block_type))\n",
    "    \n",
    "    \n",
    "    # 確保輸入跟輸出深度相同\n",
    "    check_depth = conv2d_bn(mixed, K.int_shape(x)[3], 1, activation=None)\n",
    "\n",
    "    # 導入殘差結構\n",
    "    # Lambda(function, output_shape, arguments)\n",
    "    # function 的預設變數為 input，因此若要新增變數，就需要再 arguments 中自定一個變數\n",
    "    # inputs[0] = x, inputs[1] = up\n",
    "    x = Lambda(lambda inputs, scale: inputs[0] + inputs[1] * scale, output_shape=K.int_shape(x)[1:], arguments={'scale': scale})([x, check_depth])\n",
    "    \n",
    "    if activation is not None:\n",
    "        x = Activation(activation)(x)\n",
    "    \n",
    "    return x"
   ]
  },
  {
   "cell_type": "code",
   "metadata": {},
   "outputs": [],
   "source": [
    "img_input = Input(shape=(224, 224, 32))\n",
    "\n",
    "x = inception_resnet_block(img_input, 0.1, 'incpetion_block_a', activation='relu')\n",
    "print(x)"
   ]
  },
  {
   "cell_type": "markdown",
   "metadata": {
    "colab_type": "text",
    "id": "HOBuOAjOJbab"
   },
   "outputs": [],
   "source": [
    "## 測試"
   ]
  },
  {
   "cell_type": "code",
   "metadata": {},
   "outputs": [],
   "source": [
    "img_input = Input(shape=(224, 224, 32))\n",
    "\n",
    "x = inception_resnet_block(img_input, 0.1, 'incpetion_block_a', activation='relu')\n",
    "print(x)"
   ]
  },
  {
   "cell_type": "code",
   "metadata": {},
   "outputs": [],
   "source": [
    "img_input = Input(shape=(224,224,32))\n",
    "x = inception_resnet_block(img_input, 0.1, 'incpetion_block_b', activation='relu')\n",
    "print(x)"
   ]
  },
  {
   "cell_type": "code",
   "metadata": {},
   "outputs": [],
   "source": [
    "img_input = Input(shape=(224,224,32))\n",
    "\n",
    "x = inception_resnet_block(img_input, 0.1, 'incpetion_block_c', activation='relu')\n",
    "print(x)"
   ]
  },
  {
   "cell_type": "markdown",
   "metadata": {
    "colab_type": "text",
    "id": "UYD4kS0BJbao"
   },
   "outputs": [],
   "source": [
    "## 嘗試導入 Inception Block 到 vgg16_resnet_inception 中"
   ]
  },
  {
   "cell_type": "code",
   "metadata": {},
   "outputs": [],
   "source": [
    "import import_ipynb\n",
    "from Day019_Inception_HW import inception_v1_block, inception_v3_block\n",
    "\n",
    "def vgg16_resnet_inception(include_top=True,input_tensor=None, input_shape=(224,224,1),\n",
    "          pooling='max',classes=1000):\n",
    " \n",
    "    img_input = Input(shape=input_shape)\n",
    "    \n",
    "    x = conv2d_bn(img_input,64, (3, 3), activation='relu', padding='same', name='block1_conv1')\n",
    "    x = conv2d_bn(x,64, (3, 3), activation='relu', padding='same', name='block1_conv2')\n",
    "    x = MaxPooling2D((2, 2), strides=(2, 2), name='block1_pool')(x)\n",
    "\n",
    "    # Block 2\n",
    "    x = conv2d_bn(x,128, (3, 3), activation='relu', padding='same', name='block2_conv1')\n",
    "    x = conv2d_bn(x,128, (3, 3), activation='relu', padding='same', name='block2_conv2')\n",
    "    x = MaxPooling2D((2, 2), strides=(2, 2), name='block2_pool')(x)\n",
    "\n",
    "    # Block 3\n",
    "    # inception_block 可減少參數量\n",
    "    x = inception_v1_block(x, ((64,), (96,128), (16,32), (32,)), 3, 'Block_1')\n",
    "    x = inception_v1_block(x, ((64,), (96,128), (16,32), (32,)), 3, 'Block_2')\n",
    "    x = inception_v1_block(x, ((64,), (96,128), (16,32), (32,)), 3, 'Block_3')\n",
    "    x = MaxPooling2D((2, 2), strides=(2, 2), name='block3_pool')(x)\n",
    "\n",
    "    # Block 4\n",
    "    x = conv2d_bn(x,512, (3, 3), activation='relu', padding='same', name='block4_conv1')\n",
    "    x = conv2d_bn(x,512, (3, 3), activation='relu', padding='same', name='block4_conv2')\n",
    "    x = conv2d_bn(x,512, (3, 3), activation='relu', padding='same', name='block4_conv3')\n",
    "    x = MaxPooling2D((2, 2), strides=(2, 2), name='block4_pool')(x)\n",
    "\n",
    "    # Block 5 \n",
    "    # inception_v3_block 放在較深的網路效果較好 \n",
    "    x = inception_v3_block(x, ((128,), (192,256), (32,64), (64,)), 3, 'Block_4')\n",
    "    x = inception_v3_block(x, ((128,), (192,256), (32,64), (64,)), 3, 'Block_5')\n",
    "    x = inception_v3_block(x, ((128,), (192,256), (32,64), (64,)), 3, 'Block_6')\n",
    "    x = MaxPooling2D((2, 2), strides=(2, 2), name='block5_pool')(x)\n",
    "\n",
    "    if include_top:\n",
    "        # Classification block\n",
    "        x = Flatten(name='flatten')(x)\n",
    "        x = Dense(4096, activation='relu', name='fc1')(x)\n",
    "        x = Dense(4096, activation='relu', name='fc2')(x)\n",
    "        x = Dense(classes, activation='softmax', name='predictions')(x)\n",
    "    else:\n",
    "       # 分類\n",
    "        if pooling == 'avg':\n",
    "            x = GlobalAveragePooling2D()(x)\n",
    "        elif pooling == 'max':\n",
    "            x = GlobalMaxPooling2D()(x)\n",
    "\n",
    "    inputs = img_input\n",
    "\n",
    "    # Create model.\n",
    "    model = Model(inputs, x, name='vgg16')\n",
    "\n",
    "   \n",
    "    return model\n",
    "\n"
   ]
  },
  {
   "cell_type": "code",
   "metadata": {},
   "outputs": [],
   "source": [
    "model = vgg16_resnet_inception(include_top=False)"
   ]
  },
  {
   "cell_type": "code",
   "metadata": {},
   "outputs": [],
   "source": [
    "model.summary()"
   ]
  }
 ],
 "metadata": {
  "colab": {
   "name": "Classic CNN-ResNet、InceptionV4、Inception-ResNet作業.ipynb",
   "provenance": []
  },
  "kernelspec": {
   "display_name": "Python 3",
   "language": "python",
   "name": "python3"
  },
  "language_info": {
   "codemirror_mode": {
    "name": "ipython",
    "version": 3
   },
   "file_extension": ".py",
   "mimetype": "text/x-python",
   "name": "python",
   "nbconvert_exporter": "python",
   "pygments_lexer": "ipython3",
   "version": "3.6.8"
  }
 },
 "nbformat": 4,
 "nbformat_minor": 1
}