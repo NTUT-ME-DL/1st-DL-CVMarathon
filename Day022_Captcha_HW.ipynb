{
 "cells": [
  {
   "cell_type": "markdown",
   "metadata": {},
   "outputs": [],
   "source": [
    "# 內容\n",
    "搭建一個能識別驗證碼的模型（CNN + CTC Loss）"
   ]
  },
  {
   "cell_type": "markdown",
   "metadata": {},
   "outputs": [],
   "source": [
    "# 目的\n",
    "- 了解如何結合 CNN 與 CTC Loss"
   ]
  },
  {
   "cell_type": "code",
   "metadata": {},
   "outputs": [],
   "source": [
    "# 若使用 Colab，可以先 run 這邊的 code\n",
    "\n",
    "# 假如要連結自己的雲端硬碟再開啟\n",
    "# from google.colab import drive\n",
    "# drive.mount('/content/gdrive')\n",
    "\n",
    "# 檢查GPU\n",
    "# !nvidia-smi\n",
    "\n",
    "# 安裝產生驗證碼的套件\n",
    "# !pip install captcha"
   ]
  },
  {
   "cell_type": "markdown",
   "metadata": {},
   "outputs": [],
   "source": [
    "# 產生驗證碼"
   ]
  },
  {
   "cell_type": "code",
   "metadata": {},
   "outputs": [],
   "source": [
    "from captcha.image import ImageCaptcha\n",
    "import matplotlib.pyplot as plt\n",
    "import numpy as np\n",
    "import random\n",
    "\n",
    "%matplotlib inline\n",
    "%config InlineBackend.figure_format = 'retina' # 在 Retina 螢幕中顯示模糊的效果\n",
    "\n",
    "import string\n",
    "# 驗證碼字符包含 0 ~ 10 數字以及 26 個英文字母\n",
    "characters = string.digits + string.ascii_uppercase\n",
    "# print(characters)\n",
    "\n",
    "# 設定產生圖片尺寸和總類別\n",
    "# number_class + 1 是因為有多一個類別：空格\n",
    "width, height, number_len, number_class = 170, 80, 4, len(characters) + 1\n",
    "\n",
    "# 設定產生驗證碼的 generator\n",
    "generator = ImageCaptcha(width=width, height=height)\n",
    "\n",
    "# 固定 4 字長度的驗證碼\n",
    "random_string = ''.join([random.choice(characters) for j in range(4)])\n",
    "img = generator.generate_image(random_string)\n",
    "\n",
    "plt.imshow(img)\n",
    "plt.title(random_string)"
   ]
  },
  {
   "cell_type": "markdown",
   "metadata": {},
   "outputs": [],
   "source": [
    "搭建一個 CNN 模型，使得 feature Map 高度被壓縮為 1、且寬度為 13"
   ]
  },
  {
   "cell_type": "code",
   "metadata": {},
   "outputs": [],
   "source": [
    "from keras import backend as K\n",
    "import keras\n",
    "\n",
    "# CTC Loss funciton 需要四個參數，分別是：\n",
    "# 預測\n",
    "# Label\n",
    "# CNN output 的寬度\n",
    "# 預測圖片所包含文字長度\n",
    "\n",
    "def ctc_lambda_func(args):\n",
    "    y_pred, labels, input_length, label_length = args\n",
    "    return K.ctc_batch_cost(labels, y_pred, input_length, label_length)"
   ]
  },
  {
   "cell_type": "code",
   "metadata": {},
   "outputs": [],
   "source": [
    "from keras.models import *\n",
    "from keras.layers import *\n",
    "\n",
    "rnn_size = 128\n",
    "\n",
    "input_tensor = Input((height, width, 3))\n",
    "x = input_tensor\n",
    "\n",
    "# 設計 CNN 架構\n",
    "for i in range(4):\n",
    "    i += 1\n",
    "    x = Conv2D(filters=64 * i, kernel_size=(3, 3), padding='same')(x)\n",
    "    x = MaxPooling2D(pool_size=(2, 2))(x)\n",
    "    x = BatchNormalization(axis=-1)(x)\n",
    "\n",
    "# 記錄 CNN 的輸出尺寸，以利後面的 CTC Loss 的轉換\n",
    "# conv_shape = (Batch_size, 輸出高度, 輸出寬度, 輸出深度)\n",
    "conv_shape = x.get_shape()\n",
    "\n",
    "# 從 (Batch_size, 高度, 寬度, 深度) 變成 (Batch_size, 寬度, 深度 × 高度)，以符合 CTC Loss 需求\n",
    "x = Reshape(target_shape=(int(conv_shape[2]), int(conv_shape[1] * conv_shape[3])))(x)\n",
    "\n",
    "x = Dense(2048, activation='relu')(x)\n",
    "x = Dropout(0.25)(x)\n",
    "x = Dense(number_class, activation='softmax')(x)\n",
    "\n",
    "# 用來預測的 model\n",
    "base_model = Model(input=input_tensor, output=x)\n",
    "\n",
    "# 設定 CTC Loss 的資訊\n",
    "labels = Input(name='labels', shape=[number_len], dtype='float32')\n",
    "input_length = Input(name='input_length', shape=[1], dtype='int64')\n",
    "label_length = Input(name='label_length', shape=[1], dtype='int64')\n",
    "\n",
    "# Lambda layer 代表對數據做變換，且不需學習參數\n",
    "ctc_loss = Lambda(ctc_lambda_func, output_shape=(1, ), name='ctc')([x, labels, input_length, label_length])\n",
    "\n",
    "# 用來計算 loss 的 model\n",
    "model = Model(input=[input_tensor, labels, input_length, label_length], output=[ctc_loss])\n",
    "\n",
    "# 由於目前 Model 的 output（y_pred） 為 CTC Loss\n",
    "# 因此在 Loss 的 y_true, y_pred 中，我們只需要 y_pred，並當作 loss 的值\n",
    "# 所以才使用 lambda y_true, y_pred: y_pred\n",
    "# 至於為什麼會有 y_true, y_pred\n",
    "# 請參考 https://towardsdatascience.com/advanced-keras-constructing-complex-custom-losses-and-metrics-c07ca130a618\n",
    "model.compile(loss={'ctc': lambda y_true, y_pred: y_pred}, optimizer='SGD')"
   ]
  },
  {
   "cell_type": "code",
   "metadata": {},
   "outputs": [],
   "source": [
    "model.summary()"
   ]
  },
  {
   "cell_type": "code",
   "metadata": {},
   "outputs": [],
   "source": [
    "# 使用 generator 來產生 training data\n",
    "# 產生包含要給 loss 的資訊\n",
    "# x = 輸入圖片\n",
    "# np.ones(batch_size) * int(conv_shape[2]) = CNN 輸出 feature map 寬度\n",
    "# np.ones(batch_size) * nunmber_len = 字串長度(可浮動)\n",
    "\n",
    "def generator(batch_size=128):\n",
    "    x = np.zeros((batch_size,height, width, 3), dtype=np.uint8)\n",
    "    y = np.zeros((batch_size, number_len), dtype=np.uint8)\n",
    "\n",
    "    while True:\n",
    "        generator = ImageCaptcha(width=width, height=height)\n",
    "        for i in range(batch_size):\n",
    "            random_str = ''.join([random.choice(characters) for j in range(4)])\n",
    "            \n",
    "            x[i] = np.array(generator.generate_image(random_str))\n",
    "            y[i] = [characters.find(x) for x in random_str] # 尋找字符相對應的 label\n",
    "\n",
    "        # 有著 yield 的 function 變為 generator\n",
    "        # 詳細請參考 https://blog.csdn.net/mieleizhi0522/article/details/82142856\n",
    "        yield [x, y, np.ones(batch_size) * int(conv_shape[2]), np.ones(batch_size) * number_len], np.ones(batch_size)"
   ]
  },
  {
   "cell_type": "code",
   "metadata": {},
   "outputs": [],
   "source": [
    "generator = generator(batch_size=1)\n",
    "test_generator = next(generator)\n",
    "plt.imshow(test_generator[0][0][0])\n",
    "print('Label：', test_generator[0][1])\n",
    "print('CNN 輸出寬度：', test_generator[0][2])\n",
    "print('字串長度（可浮動）: ', test_generator[0][3])"
   ]
  },
  {
   "cell_type": "markdown",
   "metadata": {},
   "outputs": [],
   "source": [
    "## 開始訓練"
   ]
  },
  {
   "cell_type": "code",
   "metadata": {},
   "outputs": [],
   "source": [
    "model.fit_generator(generator(batch_size=32), steps_per_epoch=300, epochs=60)"
   ]
  },
  {
   "cell_type": "markdown",
   "metadata": {},
   "outputs": [],
   "source": [
    "## 預測"
   ]
  },
  {
   "cell_type": "markdown",
   "metadata": {},
   "outputs": [],
   "source": [
    "decode CTC 的設計"
   ]
  },
  {
   "cell_type": "code",
   "metadata": {},
   "outputs": [],
   "source": [
    "def ctc_decode(y_predict):\n",
    "    word = ''\n",
    "\n",
    "    # 將第一個區域初始化為空格\n",
    "    previous_word = 0\n",
    "\n",
    "    for single_result in y_predict[0].argmax(1):\n",
    "        # 如果不是空格\n",
    "        if single_result > 0:\n",
    "            # 如果和上一個區域是同樣字符，則不採用\n",
    "            if previous_word != single_result:\n",
    "                word += characters[single_result]\n",
    "\n",
    "        previous_word = single_result\n",
    "    \n",
    "    return word"
   ]
  },
  {
   "cell_type": "code",
   "metadata": {},
   "outputs": [],
   "source": [
    "characters2 = characters + ' '\n",
    "\n",
    "# 只需要 x_test 和 y_test\n",
    "[x_test, y_test, _, _], _  = next(generator(batch_size=1))\n",
    "y_predict = base_model.predict(x_test)\n",
    "\n",
    "# argmax()：沿著 martix 的某 aixs，尋找其最大值的 index\n",
    "# print(np.argmax(y_predict, axis=2)[0])\n",
    "\n",
    "# 使用 ctc_decode 來得到解答\n",
    "# pred_output = K.get_value(K.ctc_decode(y_pred, input_length=np.ones(y_pred.shape[0]) * y_pred.shape[1])[0][0])\n",
    "# pred_output = ''.join([characters[x] for x in pred_output[0]])\n",
    "y_predict = ctc_decode(y_predict)\n",
    "y_test = ''.join([characters[x] for x in y_test[0]])\n",
    "\n",
    "plt.imshow(x_test[0])\n",
    "plt.title('pred:{}\\nlabel:{}'.format(str(y_predict), str(y_test)))"
   ]
  },
  {
   "cell_type": "markdown",
   "metadata": {},
   "outputs": [],
   "source": [
    "# 補充：CRNN 架構\n"
   ]
  },
  {
   "cell_type": "code",
   "metadata": {},
   "outputs": [],
   "source": [
    "from keras.models import *\n",
    "from keras.layers import *\n",
    "\n",
    "rnn_size = 128\n",
    "\n",
    "input_tensor = Input((height,width, 3))\n",
    "x = input_tensor\n",
    "\n",
    "for i in range(4):\n",
    "    x = Convolution2D(32, 3, 3, activation='relu')(x)\n",
    "    x = keras.layers.BatchNormalization(axis=-1)(x)\n",
    "    x = Convolution2D(32, 3, 3, activation='relu')(x)\n",
    "    x = keras.layers.BatchNormalization(axis=-1)(x)\n",
    "\n",
    "    if i < 3:\n",
    "        x = MaxPooling2D(pool_size=(2, 2))(x)\n",
    "    else:\n",
    "        x = MaxPooling2D(pool_size=(2, 1))(x)\n",
    "\n",
    "conv_shape = x.get_shape()\n",
    "x = Reshape(target_shape=(int(conv_shape[2]), int(conv_shape[1] * conv_shape[3])))(x)\n",
    "x = Dense(32, activation='relu')(x)\n",
    "\n",
    "# GRU is meaning Gate recurrent unit\n",
    "gru_1 = GRU(rnn_size, return_sequences=True, init='he_normal', name='gru1')(x)\n",
    "gru_1b = GRU(rnn_size, return_sequences=True, go_backwards=True, init='he_normal', name='gru1_b')(x)\n",
    "gru_1_merged = keras.layers.add([gru_1, gru_1b])\n",
    "\n",
    "gru_2 = GRU(rnn_size, return_sequences=True, init='he_normal', name='gru2')(gru_1_merged)\n",
    "gru_2b = GRU(rnn_size, return_sequences=True, go_backwards=True, \n",
    "             init='he_normal', name='gru2_b')(gru_1_merged)\n",
    "\n",
    "x = keras.layers.Concatenate()([gru_2, gru_2b])\n",
    "x = Dropout(0.25)(x)\n",
    "x = Dense(number_class, init='he_normal', activation='softmax')(x)\n",
    "\n",
    "base_model = Model(input=input_tensor, output=x)\n",
    "\n",
    "labels = Input(name='the_labels', shape=[number_len], dtype='float32')\n",
    "input_length = Input(name='input_length', shape=[1], dtype='int64')\n",
    "label_length = Input(name='label_length', shape=[1], dtype='int64')\n",
    "loss_out = Lambda(ctc_lambda_func, output_shape=(1, ), name='ctc')([x, labels, input_length, label_length])\n",
    "\n",
    "model = Model(input=[input_tensor, labels, input_length, label_length], output=[loss_out])\n",
    "model.compile(loss={'ctc': lambda y_true, y_pred: y_pred}, optimizer='Adam')"
   ]
  },
  {
   "cell_type": "code",
   "metadata": {},
   "outputs": [],
   "source": [
    "model.summary()"
   ]
  }
 ],
 "metadata": {
  "accelerator": "GPU",
  "colab": {
   "collapsed_sections": [],
   "name": "Captcha.ipynb",
   "provenance": []
  },
  "kernelspec": {
   "display_name": "Python 3",
   "language": "python",
   "name": "python3"
  },
  "language_info": {
   "codemirror_mode": {
    "name": "ipython",
    "version": 3
   },
   "file_extension": ".py",
   "mimetype": "text/x-python",
   "name": "python",
   "nbconvert_exporter": "python",
   "pygments_lexer": "ipython3",
   "version": "3.6.8"
  }
 },
 "nbformat": 4,
 "nbformat_minor": 1
}