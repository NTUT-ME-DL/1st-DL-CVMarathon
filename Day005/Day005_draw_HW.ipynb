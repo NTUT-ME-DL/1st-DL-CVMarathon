{
 "cells": [
  {
   "cell_type": "markdown",
   "metadata": {},
   "outputs": [],
   "source": [
    "#  作業\n",
    "\n",
    "Hint: 人物原始邊框座標 (60, 40), (420, 510)\n",
    "\n",
    "請根據 Lena 圖做以下處理\n",
    "\n",
    "- 對明亮度做直方圖均衡處理\n",
    "- 水平鏡像 + 縮放處理 (0.5 倍)\n",
    "- 畫出人物矩形邊框"
   ]
  },
  {
   "cell_type": "code",
   "execution_count": 55,
   "metadata": {},
   "outputs": [],
   "source": [
    "import cv2\n",
    "import numpy as np\n",
    "\n",
    "img = cv2.imread('lena.png')"
   ]
  },
  {
   "cell_type": "markdown",
   "metadata": {},
   "outputs": [],
   "source": [
    "## Hint: 矩形"
   ]
  },
  {
   "cell_type": "code",
   "execution_count": 56,
   "metadata": {},
   "outputs": [],
   "source": [
    "img_rectangle = img.copy()\n",
    "cv2.rectangle(img_rectangle, (60, 40), (420, 510), (0, 0, 255), 3)\n",
    "\n",
    "while True:\n",
    "    cv2.imshow('image', img_rectangle)\n",
    "    k = cv2.waitKey(0)\n",
    "    if k == 27:\n",
    "        cv2.destroyAllWindows()\n",
    "        break"
   ]
  },
  {
   "cell_type": "markdown",
   "metadata": {},
   "outputs": [],
   "source": [
    "## Hint: 線"
   ]
  },
  {
   "cell_type": "code",
   "execution_count": 82,
   "metadata": {},
   "outputs": [],
   "source": [
    "img_line = img.copy()\n",
    "cv2.line(img_line, (60, 40), (420, 510), (0, 0, 255), 3)\n",
    "\n",
    "while True:\n",
    "    cv2.imshow('image', img_line)\n",
    "    k = cv2.waitKey(0)\n",
    "    if k == 27:\n",
    "        cv2.destroyAllWindows()\n",
    "        break"
   ]
  },
  {
   "cell_type": "markdown",
   "metadata": {},
   "outputs": [],
   "source": [
    "## Hint: 文字"
   ]
  },
  {
   "cell_type": "code",
   "execution_count": 81,
   "metadata": {},
   "outputs": [],
   "source": [
    "img_text = img.copy()\n",
    "cv2.putText(img_text, '(60, 40)', (60, 40), 1, 1, (0, 0, 255), 2)\n",
    "\n",
    "while True:\n",
    "    cv2.imshow('image', img_text)\n",
    "    k = cv2.waitKey(0)\n",
    "    if k == 27:\n",
    "        cv2.destroyAllWindows()\n",
    "        break"
   ]
  },
  {
   "cell_type": "markdown",
   "execution_count": null,
   "metadata": {},
   "outputs": [],
   "source": [
    "## 解法一\n",
    "根據題目，參考之前的投影片，最簡單的方式為\n",
    "1. 顏色的操作（對明亮度做直方圖均衡）\n",
    "2. 把舉行邊框畫在圖片上之後在做位置上的變換\n",
    "得到的圖示正確的結果，但你不知道新的矩形邊框座標點"
   ]
  },
  {
   "cell_type": "code",
   "execution_count": 59,
   "metadata": {},
   "outputs": [],
   "source": [
    "img_hw = img.copy()\n",
    "point1 = (60, 40)\n",
    "point2 = (420, 510)\n",
    "\n",
    "# 直方圖均衡\n",
    "img_hw = cv2.cvtColor(img_hw, cv2.COLOR_BGR2HSV)\n",
    "img_hw[..., -1] = cv2.equalizeHist(img_hw[..., -1])\n",
    "img_hw = cv2.cvtColor(img_hw, cv2.COLOR_HSV2BGR)\n",
    "\n",
    "# 畫出矩形邊框\n",
    "cv2.rectangle(img_hw, point1, point2, (0, 0, 255), 3)\n",
    "\n",
    "# 水平鏡像 + 縮放處理（0.5 倍）\n",
    "img_hw = img_hw[:, ::-1, :]\n",
    "\n",
    "img_hw = cv2.resize(img_hw, None, fx=0.5, fy=0.5, interpolation=cv2.INTER_LINEAR)\n",
    "\n",
    "while True:\n",
    "    cv2.imshow(\"image\", img_hw)\n",
    "    k = cv2.waitKey(0)\n",
    "    if k==27:\n",
    "        cv2.destroyAllWindows()\n",
    "        break"
   ]
  },
  {
   "cell_type": "markdown",
   "execution_count": 18,
   "metadata": {},
   "outputs": [
    {
     "ename": "SyntaxError",
     "evalue": "invalid syntax (<ipython-input-18-0166c81f883e>, line 5)",
     "output_type": "error",
     "traceback": [
      "\u001b[1;36m  File \u001b[1;32m\"<ipython-input-18-0166c81f883e>\"\u001b[1;36m, line \u001b[1;32m5\u001b[0m\n\u001b[1;33m    1. 顏色的操作 (對明亮度做直方圖均衡)\u001b[0m\n\u001b[1;37m           ^\u001b[0m\n\u001b[1;31mSyntaxError\u001b[0m\u001b[1;31m:\u001b[0m invalid syntax\n"
     ]
    }
   ],
   "source": [
    "##  解法二\n",
    "\n",
    "如果希望得知矩型邊框的位置，可以：\n",
    "\n",
    "1. 顏色的操作 (對明亮度做直方圖均衡)\n",
    "2. 鏡像尺寸可以透過四則運算得知\n",
    "3. 建構 transformation matrix，並縮放圖片\n",
    "4. 把矩型邊框的點與 transformation matrix 相乘就會得到縮放後的位置\n",
    "5. 畫圖"
   ]
  },
  {
   "cell_type": "code",
   "execution_count": 60,
   "metadata": {},
   "outputs": [
    {
     "name": "stdout",
     "output_type": "stream",
     "text": "origin point1=[92, 40], origin point2=[452, 510]\nresize point1=(46, 20), resize point2=(226, 255)\n"
    }
   ],
   "source": [
    "img_hw = img.copy()\n",
    "point1 = [60, 40]\n",
    "point2 = [420, 510]\n",
    "\n",
    "# 做直方圖均衡\n",
    "img_hw = cv2.cvtColor(img_hw, cv2.COLOR_BGR2HSV)\n",
    "img_hw[..., -1] = cv2.equalizeHist(img_hw[..., -1])\n",
    "img_hw = cv2.cvtColor(img_hw, cv2.COLOR_HSV2BGR)\n",
    "\n",
    "# 水平鏡像\n",
    "img_hw = img_hw[:, ::-1, :]\n",
    "\n",
    "# 透過四則運算計算鏡像後的位置\n",
    "# 確保點的位置一樣是左上跟右下，所以交換鏡像後的 x 座標 (y 座標做水平鏡像後位置不變)\n",
    "w = img_hw.shape[0]\n",
    "point1[0] = w - point1[0]\n",
    "point2[0] = w - point2[0]\n",
    "point1[0], point2[0] = point2[0], point1[0]\n",
    "\n",
    "\"\"\"\n",
    "縮放處理 (0.5 倍)\n",
    "\"\"\"\n",
    "fx = 0.5\n",
    "fy = 0.5\n",
    "resize_col = int(img_hw.shape[1] * fx)\n",
    "resize_row = int(img_hw.shape[0] * fy)\n",
    "\n",
    "# 建構 scale matrix\n",
    "matrix_scale = np.array([[fx, 0, 0], [0, fy, 0]], dtype=np.float32)\n",
    "img_hw = cv2.warpAffine(img_hw, matrix_scale, (resize_col, resize_row))\n",
    "\n",
    "# 把左上跟右下轉為矩陣型式\n",
    "original_point = np.array((point1, point2), dtype=np.float32)\n",
    "# print('M_scale.shape={}, bbox.shape={}'.format(matrix_scale.shape, bbox.shape))\n",
    "\n",
    "# 做矩陣乘法可以使用 `np.dot`, 而為了做矩陣乘法, 因此 matrix_scale 需要做轉置之後才能相乘\n",
    "# matrix.shpae = [2, 3]\n",
    "# original_point.shpae = [2, 2]\n",
    "resize_point = np.dot(matrix_scale.T, original_point).astype('uint8')\n",
    "\n",
    "# 畫圖的點所需要的型態為 tuple\n",
    "resize_point1 = tuple(resize_point[0])\n",
    "resize_point2 = tuple(resize_point[1])\n",
    "\n",
    "print('origin point1={}, origin point2={}'.format(point1, point2))\n",
    "print('resize point1={}, resize point2={}'.format(resize_point1, resize_point2))\n",
    "\n",
    "# 畫圖\n",
    "cv2.rectangle(img_hw, resize_point1, resize_point2, (0, 0, 255), 3)\n",
    "\n",
    "while True:\n",
    "    cv2.imshow('image', img_hw)\n",
    "    k = cv2.waitKey(0)\n",
    "    if k == 27:\n",
    "        cv2.destroyAllWindows()\n",
    "        break"
   ]
  },
  {
   "cell_type": "markdown",
   "metadata": {},
   "outputs": [],
   "source": [
    "##  解法三 (optional)\n",
    "\n",
    "把矩型邊框用遮罩的方式呈現，使用同樣處理圖片的方式處理遮罩\n",
    "最後再找遮罩的左上跟右下的點的位置\n",
    "\n",
    "這邊會用到許多沒提過的東西，所以當作 optional\n",
    "\n",
    "而下面兩個分別是使用 雙線性差值 與 transformation matrix，我們可以觀察到其有些微的不同"
   ]
  },
  {
   "cell_type": "code",
   "execution_count": 1,
   "metadata": {},
   "outputs": [
    {
     "ename": "NameError",
     "evalue": "name 'img' is not defined",
     "output_type": "error",
     "traceback": [
      "\u001b[1;31m---------------------------------------------------------------------------\u001b[0m",
      "\u001b[1;31mNameError\u001b[0m                                 Traceback (most recent call last)",
      "\u001b[1;32m<ipython-input-1-cd34e23a84f7>\u001b[0m in \u001b[0;36m<module>\u001b[1;34m\u001b[0m\n\u001b[0;32m      1\u001b[0m \u001b[1;31m# 尋找矩形的 size\u001b[0m\u001b[1;33m\u001b[0m\u001b[1;33m\u001b[0m\u001b[1;33m\u001b[0m\u001b[0m\n\u001b[0;32m      2\u001b[0m \u001b[1;33m\u001b[0m\u001b[0m\n\u001b[1;32m----> 3\u001b[1;33m \u001b[0mimg_hw\u001b[0m \u001b[1;33m=\u001b[0m \u001b[0mimg\u001b[0m\u001b[1;33m.\u001b[0m\u001b[0mcopy\u001b[0m\u001b[1;33m(\u001b[0m\u001b[1;33m)\u001b[0m\u001b[1;33m\u001b[0m\u001b[1;33m\u001b[0m\u001b[0m\n\u001b[0m\u001b[0;32m      4\u001b[0m \u001b[0mpoint1\u001b[0m \u001b[1;33m=\u001b[0m \u001b[1;33m(\u001b[0m\u001b[1;36m60\u001b[0m\u001b[1;33m,\u001b[0m \u001b[1;36m40\u001b[0m\u001b[1;33m)\u001b[0m\u001b[1;33m\u001b[0m\u001b[1;33m\u001b[0m\u001b[0m\n\u001b[0;32m      5\u001b[0m \u001b[0mpoint2\u001b[0m \u001b[1;33m=\u001b[0m \u001b[1;33m(\u001b[0m\u001b[1;36m420\u001b[0m\u001b[1;33m,\u001b[0m \u001b[1;36m510\u001b[0m\u001b[1;33m)\u001b[0m\u001b[1;33m\u001b[0m\u001b[1;33m\u001b[0m\u001b[0m\n",
      "\u001b[1;31mNameError\u001b[0m: name 'img' is not defined"
     ]
    }
   ],
   "source": [
    "# 尋找矩形的 size\n",
    "\n",
    "img_hw = img.copy()\n",
    "point1 = (60, 40)\n",
    "point2 = (420, 510)\n",
    "\n",
    "# 2D mask\n",
    "# 取得與 image 一樣大小的零矩陣\n",
    "img_mask = np.zeros_like(img_hw)\n",
    "img_mask[40:510, 60:420, :] = 255\n",
    "\n",
    "# 做直方圖均衡\n",
    "img_hw = cv2.cvtColor(img_hw, cv2.COLOR_BGR2HSV)\n",
    "img_hw[..., -1] = cv2.equalizeHist(img_hw[..., -1])\n",
    "img_hw = cv2.cvtColor(img_hw, cv2.COLOR_HSV2BGR)\n",
    "\n",
    "# 水平鏡像\n",
    "img_hw = img_hw[:, ::-1, :]\n",
    "img_mask = img_mask[:, ::-1, :]\n",
    "\n",
    "# 縮放處理\n",
    "img_hw = cv2.resize(img_hw, None, fx=0.5, fy=0.5, interpolation=cv2.INTER_LINEAR)\n",
    "img_mask = cv2.resize(img_hw, None, fx=0.5, fy=0.5, interpolation=cv2.INTER_LINEAR)\n",
    "\n",
    "# 取得遮罩的左上和右下的點\n",
    "# 取得 img_mask 非零的座標\n",
    "height_coordinate, width_coordinate, channel_coordinate = np.where(img_mask)\n",
    "\n",
    "resize_point1 = (min(width_coordinate), min(height_coordinate))\n",
    "resize_point2 = (max(width_coordinate), max(height_coordinate))\n",
    "\n",
    "# 印出原有和更改後的左上、右下兩個點\n",
    "print('origin point1={}, origin point2={}'.format(point1, point2))\n",
    "print('resize point1={}, resize point2={}'.format(scale_point1, scale_point2))\n",
    "\n",
    "# 畫出矩形邊框\n",
    "cv2.rectangle(img_hw, resize_point1, resize_point2, (0, 0, 255), 3)\n",
    "\n",
    "while True:\n",
    "    cv2.imshow(\"image\", img_hw)\n",
    "    k = cv2.waitKey(0)\n",
    "\n",
    "    if k ==27 :\n",
    "        cv2.destroyAllWindows()\n",
    "        break\n"
   ]
  },
  {
   "cell_type": "code",
   "execution_count": 84,
   "metadata": {},
   "outputs": [],
   "source": [
    "img_hw = img.copy()\n",
    "point1 = [60, 40]\n",
    "point2 = [420, 510]\n",
    "\n",
    "# 做直方圖均衡\n",
    "img_hw = cv2.cvtColor(img_hw, cv2.COLOR_BGR2HSV)\n",
    "img_hw[..., -1] = cv2.equalizeHist(img_hw[..., -1])\n",
    "img_hw = cv2.cvtColor(img_hw, cv2.COLOR_HSV2BGR)\n",
    "\n",
    "# 水平鏡像\n",
    "img_hw = img_hw[:, ::-1, :]\n",
    "\n",
    "# 透過四則運算計算鏡像後位置\n",
    "# 確保點的位置一樣是左上跟右下，所以交換鏡像後的 x 座標 (y 座標做水平鏡像後位置不變)\n",
    "w = img_hw.shape[1]\n",
    "point1[0] = w - point1[0]\n",
    "point2[0] = w - point2[0]\n",
    "point1[0], point2[0] = point2[0], point1[0]\n",
    "\n",
    "# 縮放處理（0.5 倍）\n",
    "fx = 0.5\n",
    "fy = 0.5\n",
    "resize_col = int(img_hw.shape[1] * fx)\n",
    "resize_row = int(img_hw.shape[0] * fy)\n",
    "\n",
    "# 建構 scale matrix\n",
    "matrix_scale = np.array([[fx, 0, 0],\n",
    "                    [0, fy, 0]], dtype=np.float32)\n",
    "img_hw = cv2.warpAffine(img_hw, matrix_scale, (resize_col, resize_row))\n",
    "\n",
    "# 把左上跟右下轉為矩陣型式\n",
    "original_point = np.array((point1, point2), dtype=np.float32)\n",
    "#print('matrix_scale.shape={}, original.shape={}'.format(matrix_scale.shape, original.shape))\n",
    "\n",
    "# 做矩陣乘法可以使用 `np.dot`, 為了做矩陣乘法, matrix_scale 需要做轉置之後才能相乘\n",
    "homo_coor_result = np.dot(matrix_scale.T, original_point)\n",
    "homo_coor_result = homo_coor_result.astype('uint8')\n",
    "\n",
    "resize_point1 = tuple(homo_coor_result[0])\n",
    "resize_point2 = tuple(homo_coor_result[1])\n",
    "\n",
    "# 印出原有和更改後的左上、右下兩個點\n",
    "print('origin point1={}, origin point2={}'.format(point1, point2))\n",
    "print('resize point1={}, resize point2={}'.format(resize_point1, resize_point2))\n",
    "\n",
    "# 畫圖遮罩\n",
    "# color=255 is meant (255, 255, 255)\n",
    "rectangle_array = np.zeros(img_hw.shape[:2], dtype = \"uint8\")\n",
    "mask = cv2.rectangle(rectangle_array, resize_point1, resize_point2, 255, -1)\n",
    "\n",
    "# Apply out mask\n",
    "# 將圖片與 mask 做 and 運算 \n",
    "masked = cv2.bitwise_and(img_hw, img_hw, mask=mask)\n",
    "\n",
    "while True:\n",
    "    # cv2.imshow('image', img)\n",
    "    # cv2.imshow('image_hw', img_hw)\n",
    "    cv2.imshow('Masked', masked)\n",
    "    k = cv2.waitKey(0)\n",
    "    if k == 27:\n",
    "        cv2.destroyAllWindows()\n",
    "        break"
   ]
  }
 ],
 "metadata": {
  "kernelspec": {
   "display_name": "Python 3",
   "language": "python",
   "name": "python3"
  },
  "language_info": {
   "codemirror_mode": {
    "name": "ipython",
    "version": 3
   },
   "file_extension": ".py",
   "mimetype": "text/x-python",
   "name": "python",
   "nbconvert_exporter": "python",
   "pygments_lexer": "ipython3",
   "version": "3.6.8"
  }
 },
 "nbformat": 4,
 "nbformat_minor": 2
}